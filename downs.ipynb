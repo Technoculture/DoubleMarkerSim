{
 "cells": [
  {
   "cell_type": "markdown",
   "id": "cfabd6c5-567e-47a5-8d87-4292d0274e50",
   "metadata": {},
   "source": [
    "# Modeling the Probability Distribution"
   ]
  },
  {
   "cell_type": "code",
   "execution_count": 258,
   "id": "2fa2f3c7-6160-45c7-988c-3c44b5e7ef25",
   "metadata": {},
   "outputs": [],
   "source": [
    "import math\n",
    "import numpy as np\n",
    "from dataclasses import dataclass, field\n",
    "from typing import List, Tuple\n",
    "from pprint import pprint\n",
    "import matplotlib.pyplot as plt"
   ]
  },
  {
   "cell_type": "code",
   "execution_count": 186,
   "id": "3a4d63e4-b111-42f6-a3f4-a5fd68291873",
   "metadata": {},
   "outputs": [],
   "source": [
    "@dataclass\n",
    "class Marker:\n",
    "    name: str\n",
    "    median_mom_down: float\n",
    "    median_mom_control: float\n",
    "    log_sd_down: float = 0.0 # log of the sd of the marker in Down Syndrome cases\n",
    "    log_sd_control: float = 0.0 # log of the sd of the marker in Control cases"
   ]
  },
  {
   "cell_type": "code",
   "execution_count": 189,
   "id": "bc8cba81-d2b5-470d-9cf1-78b13b6dcc62",
   "metadata": {},
   "outputs": [],
   "source": [
    "@dataclass\n",
    "class PopulationConfig:\n",
    "    \"\"\"\n",
    "    Maternal Age is Normally distributed.\n",
    "    \"\"\"\n",
    "    maternal_age_mean: float = 27.0 # Mean maternal age in years\n",
    "    maternal_age_sd: float = 5.5 # SD of maternal age in years\n",
    "\n",
    "    down_syndrome_prevalence: float = 1/700 # Prevalence of Down syndrome in the population\n",
    "\n",
    "@dataclass\n",
    "class MarkersConfig:\n",
    "    \"\"\"\n",
    "    Config for the various markers being analysed\n",
    "    \"\"\"\n",
    "    markers: list[Marker] = field(default_factory=list)\n",
    "    \n",
    "    correlation_matrix_down: np.ndarray = field(default_factory=lambda: np.eye(1)) # Correlatiuon matrix for Down syndrome cases\n",
    "    correlation_matrix_control: np.ndarray = field(default_factory=lambda: np.eye(1)) # Correlation matrix for control cases\n",
    "\n",
    "    def __post_init__(self):\n",
    "        self.markers = [\n",
    "            Marker(name=\"Free B-hCG\", median_mom_down=1.70, median_mom_control=1.01, log_sd_down=0.28, log_sd_control=0.27),\n",
    "            Marker(name=\"PAPP-A\", median_mom_down=0.49, median_mom_control=1.00, log_sd_down=0.31, log_sd_control=0.25),\n",
    "            Marker(name=\"NT\", median_mom_down=1.74, median_mom_control=1.01, log_sd_down=0.23, log_sd_control=0.13),\n",
    "        ]\n",
    "\n",
    "        markers_count = len(self.markers)\n",
    "        self.correlation_matrix_down = self.correlation_matrix_control = np.eye(markers_count)"
   ]
  },
  {
   "cell_type": "code",
   "execution_count": 219,
   "id": "16fbced6-668f-4328-a99a-11510175860c",
   "metadata": {},
   "outputs": [
    {
     "name": "stdout",
     "output_type": "stream",
     "text": [
      "PopulationConfig(maternal_age_mean=27.0,\n",
      "                 maternal_age_sd=5.5,\n",
      "                 down_syndrome_prevalence=0.0014285714285714286)\n",
      "MarkersConfig(markers=[Marker(name='Free B-hCG',\n",
      "                              median_mom_down=1.7,\n",
      "                              median_mom_control=1.01,\n",
      "                              log_sd_down=0.28,\n",
      "                              log_sd_control=0.27),\n",
      "                       Marker(name='PAPP-A',\n",
      "                              median_mom_down=0.49,\n",
      "                              median_mom_control=1.0,\n",
      "                              log_sd_down=0.31,\n",
      "                              log_sd_control=0.25),\n",
      "                       Marker(name='NT',\n",
      "                              median_mom_down=1.74,\n",
      "                              median_mom_control=1.01,\n",
      "                              log_sd_down=0.23,\n",
      "                              log_sd_control=0.13)],\n",
      "              correlation_matrix_down=array([[1., 0., 0.],\n",
      "       [0., 1., 0.],\n",
      "       [0., 0., 1.]]),\n",
      "              correlation_matrix_control=array([[1., 0., 0.],\n",
      "       [0., 1., 0.],\n",
      "       [0., 0., 1.]]))\n"
     ]
    }
   ],
   "source": [
    "pop_config = PopulationConfig(\n",
    "    maternal_age_mean = 27.0,\n",
    "    maternal_age_sd = 5.5\n",
    ")\n",
    "\n",
    "marker_config = MarkersConfig()\n",
    "\n",
    "pprint(pop_config)\n",
    "pprint(marker_config)"
   ]
  },
  {
   "cell_type": "code",
   "execution_count": 220,
   "id": "95f51ba5-9e5d-4cf5-b39f-28a060fc59d0",
   "metadata": {},
   "outputs": [
    {
     "data": {
      "text/plain": [
       "array([[1., 0., 0.],\n",
       "       [0., 1., 0.],\n",
       "       [0., 0., 1.]])"
      ]
     },
     "execution_count": 220,
     "metadata": {},
     "output_type": "execute_result"
    }
   ],
   "source": [
    "config.correlation_matrix_control"
   ]
  },
  {
   "cell_type": "code",
   "execution_count": 221,
   "id": "601425dd-1033-4eb9-90bd-c56249bc582c",
   "metadata": {},
   "outputs": [
    {
     "name": "stdout",
     "output_type": "stream",
     "text": [
      "0.00153\n"
     ]
    }
   ],
   "source": [
    "sample_size: int = 100_000\n",
    "\n",
    "is_down = np.random.random(sample_size) < pop_config.down_syndrome_prevalence\n",
    "\n",
    "sampled_prevalence = (np.sum(is_down) / sample_size)\n",
    "print(sampled_prevalence)\n",
    "\n",
    "assert np.allclose(sampled_prevalence, pop_config.down_syndrome_prevalence, atol=1/2000), \"Sampled prevalence should be similar to expected prevalence\""
   ]
  },
  {
   "cell_type": "code",
   "execution_count": 222,
   "id": "68e87514-5afc-4945-826b-e708f19837d7",
   "metadata": {
    "scrolled": true
   },
   "outputs": [
    {
     "data": {
      "text/plain": [
       "(0.09, 0.19)"
      ]
     },
     "execution_count": 222,
     "metadata": {},
     "output_type": "execute_result"
    }
   ],
   "source": [
    "min_max = lambda v, tol: ((v - tol) * 100, (v + tol) * 100)\n",
    "\n",
    "min_max(0.0014, 1/2000)"
   ]
  },
  {
   "cell_type": "markdown",
   "id": "ab1e11fd-d92d-43e7-9b80-e5bf3c10cebc",
   "metadata": {},
   "source": [
    "Let X be a random variable with a log normal distribution  $N(\\mu_X, \\sigma^2_X$). Then the $ln(X)$ has the mean $\\mu$ and variance $\\sigma^2$.\n",
    "\n",
    "$$\n",
    "\\begin{align}\n",
    "\\mu &= ln({\\frac{\\mu^2_X}{\\sqrt{\\mu^2_X + \\sigma^2_X}}}) \\\\\n",
    "\\sigma^2 &= ln(1 + \\frac{\\sigma^2_X}{\\mu^2_X})\n",
    "\\end{align}\n",
    "$$"
   ]
  },
  {
   "cell_type": "code",
   "execution_count": 255,
   "id": "0d556e20-bb48-42c1-a049-577e6ea1c911",
   "metadata": {},
   "outputs": [
    {
     "name": "stdout",
     "output_type": "stream",
     "text": [
      "3.275508180045729 0.04065737191719992\n"
     ]
    },
    {
     "data": {
      "text/plain": [
       "array([3.04965345, 3.33750811, 3.60236882, ..., 3.1938281 , 3.41287571,\n",
       "       3.11328614])"
      ]
     },
     "execution_count": 255,
     "metadata": {},
     "output_type": "execute_result"
    }
   ],
   "source": [
    "mu = np.log(pop_config.maternal_age_mean**2 / (np.sqrt(pop_config.maternal_age_mean**2 + pop_config.maternal_age_sd**2)))\n",
    "sig2 = np.log(1 + (pop_config.maternal_age_sd ** 2 / pop_config.maternal_age_mean ** 2))\n",
    "\n",
    "log_maternal_ages = np.random.normal(\n",
    "    mu,\n",
    "    np.sqrt(sig2),\n",
    "    sample_size\n",
    ")\n",
    "\n",
    "print(\n",
    "    mu, sig2\n",
    ")\n",
    "\n",
    "log_maternal_ages"
   ]
  },
  {
   "cell_type": "code",
   "execution_count": 256,
   "id": "007481a0-4969-4170-abff-bd020ddfc1c4",
   "metadata": {},
   "outputs": [],
   "source": [
    "def summary_stats(data: np.ndarray):\n",
    "    print(f\"X ~ N(μ, σ^2): N({np.mean(data):.4f}, {np.std(data)**2:.4f})\")\n",
    "    print(f\"Range: {np.min(data):.4f} ≤ X ≤ {np.max(data):.4f}\")\n",
    "\n",
    "    print(f\"median (M): {np.median(data):.4f}\\n\")"
   ]
  },
  {
   "cell_type": "code",
   "execution_count": 317,
   "id": "aa9b4505-4d2a-48e0-a874-08049f444962",
   "metadata": {},
   "outputs": [
    {
     "data": {
      "text/plain": [
       "(array([3.000e+00, 2.200e+01, 8.500e+01, 2.910e+02, 6.390e+02, 1.375e+03,\n",
       "        2.307e+03, 3.491e+03, 4.905e+03, 6.178e+03, 7.238e+03, 8.041e+03,\n",
       "        8.460e+03, 8.467e+03, 8.028e+03, 7.347e+03, 6.404e+03, 5.705e+03,\n",
       "        4.614e+03, 3.849e+03, 2.990e+03, 2.413e+03, 1.800e+03, 1.451e+03,\n",
       "        1.108e+03, 7.660e+02, 5.460e+02, 4.460e+02, 3.160e+02, 2.170e+02,\n",
       "        1.620e+02, 1.080e+02, 7.500e+01, 5.200e+01, 2.600e+01, 2.300e+01,\n",
       "        1.800e+01, 1.200e+01, 8.000e+00, 5.000e+00, 3.000e+00, 2.000e+00,\n",
       "        2.000e+00, 0.000e+00, 0.000e+00, 1.000e+00, 0.000e+00, 0.000e+00,\n",
       "        0.000e+00, 1.000e+00]),\n",
       " array([11.10302253, 12.21397758, 13.32493263, 14.43588768, 15.54684273,\n",
       "        16.65779778, 17.76875283, 18.87970788, 19.99066292, 21.10161797,\n",
       "        22.21257302, 23.32352807, 24.43448312, 25.54543817, 26.65639322,\n",
       "        27.76734827, 28.87830332, 29.98925837, 31.10021342, 32.21116847,\n",
       "        33.32212352, 34.43307857, 35.54403362, 36.65498866, 37.76594371,\n",
       "        38.87689876, 39.98785381, 41.09880886, 42.20976391, 43.32071896,\n",
       "        44.43167401, 45.54262906, 46.65358411, 47.76453916, 48.87549421,\n",
       "        49.98644926, 51.09740431, 52.20835936, 53.3193144 , 54.43026945,\n",
       "        55.5412245 , 56.65217955, 57.7631346 , 58.87408965, 59.9850447 ,\n",
       "        61.09599975, 62.2069548 , 63.31790985, 64.4288649 , 65.53981995,\n",
       "        66.650775  ]),\n",
       " <BarContainer object of 50 artists>)"
      ]
     },
     "execution_count": 317,
     "metadata": {},
     "output_type": "execute_result"
    },
    {
     "data": {
      "image/png": "[encoded data removed]",
      "text/plain": [
       "<Figure size 640x480 with 1 Axes>"
      ]
     },
     "metadata": {},
     "output_type": "display_data"
    }
   ],
   "source": [
    "maternal_age = np.exp(log_maternal_ages)\n",
    "plt.hist(maternal_age, bins=50)"
   ]
  },
  {
   "cell_type": "code",
   "execution_count": 318,
   "id": "d2d1b270-a820-4d88-87b6-0416eda4be79",
   "metadata": {},
   "outputs": [
    {
     "name": "stdout",
     "output_type": "stream",
     "text": [
      "X ~ N(μ, σ^2): N(3.2755, 0.0406)\n",
      "Range: 2.4072 ≤ X ≤ 4.1995\n",
      "median (M): 3.2756\n",
      "\n",
      "X ~ N(μ, σ^2): N(26.9990, 30.1752)\n",
      "Range: 11.1030 ≤ X ≤ 66.6508\n",
      "median (M): 26.4595\n",
      "\n"
     ]
    }
   ],
   "source": [
    "summary_stats(log_maternal_ages)\n",
    "summary_stats(np.exp(log_maternal_ages))"
   ]
  },
  {
   "cell_type": "markdown",
   "id": "88bc4a69-37b0-4827-8cde-7d19e5e9b234",
   "metadata": {},
   "source": [
    "$$\n",
    "Y = ln(X), Y \\sim N(\\mu, \\sigma)\n",
    "$$"
   ]
  },
  {
   "cell_type": "markdown",
   "id": "8c6fa750-1228-4a2f-9925-dde548cda39d",
   "metadata": {},
   "source": [
    "$$\n",
    "M = e^\\mu\n",
    "=> ln(M) = \\mu\n",
    "$$"
   ]
  },
  {
   "cell_type": "code",
   "execution_count": 319,
   "id": "0f543dab-43ef-49f0-be78-45cc8ba610a1",
   "metadata": {},
   "outputs": [
    {
     "data": {
      "text/plain": [
       "(array([ 0.53062825, -0.71334989,  0.55388511]),\n",
       " array([0.00995033, 0.        , 0.00995033]))"
      ]
     },
     "execution_count": 319,
     "metadata": {},
     "output_type": "execute_result"
    }
   ],
   "source": [
    "mean_down = np.log([m.median_mom_down for m in marker_config.markers])\n",
    "mean_control = np.log([m.median_mom_control for m in marker_config.markers])\n",
    "\n",
    "mean_down, mean_control"
   ]
  },
  {
   "cell_type": "markdown",
   "id": "36d2a61c-54c0-45cf-9f34-cba05e8020a4",
   "metadata": {},
   "source": [
    "## Covariance Matrices and Multivariate Distribution"
   ]
  },
  {
   "cell_type": "markdown",
   "id": "79cd39c9-4ec5-4364-8829-f6d1cc9005d9",
   "metadata": {},
   "source": []
  },
  {
   "cell_type": "code",
   "execution_count": 320,
   "id": "da497634-e7b9-4fe1-9dfb-9e18b58323cb",
   "metadata": {},
   "outputs": [
    {
     "data": {
      "text/plain": [
       "(array([[0.0784, 0.    , 0.    ],\n",
       "        [0.    , 0.0961, 0.    ],\n",
       "        [0.    , 0.    , 0.0529]]),\n",
       " array([[0.0729, 0.    , 0.    ],\n",
       "        [0.    , 0.0625, 0.    ],\n",
       "        [0.    , 0.    , 0.0169]]))"
      ]
     },
     "execution_count": 320,
     "metadata": {},
     "output_type": "execute_result"
    }
   ],
   "source": [
    "cov_down = np.diag([m.log_sd_down**2 for m in marker_config.markers])\n",
    "cov_control = np.diag([m.log_sd_control**2 for m in marker_config.markers])\n",
    "\n",
    "cov_down, cov_control"
   ]
  },
  {
   "cell_type": "code",
   "execution_count": 321,
   "id": "cf1d8945-0c83-4381-a1f3-2d477bccff04",
   "metadata": {},
   "outputs": [],
   "source": [
    "correlation_matrix_down = np.array(\n",
    "    [[1.0, 0.191, 0.0],\n",
    "     [0.191, 1.0, 0.0],\n",
    "     [0.0, 0.0, 1.0]]\n",
    ")"
   ]
  },
  {
   "cell_type": "code",
   "execution_count": 322,
   "id": "af720a08-2e92-4730-8da3-795c2eca9e12",
   "metadata": {},
   "outputs": [],
   "source": [
    "correlation_matrix_control = np.array(\n",
    "    [[1.0, 0.186, 0.0],\n",
    "     [0.186, 1.0, 0.0],\n",
    "     [0.0, 0.0, 1.0]]\n",
    ")"
   ]
  },
  {
   "cell_type": "code",
   "execution_count": 323,
   "id": "44247ecd-5258-4436-8626-026fc23eed11",
   "metadata": {},
   "outputs": [
    {
     "data": {
      "text/plain": [
       "array([[0.00614656, 0.00143904, 0.        ],\n",
       "       [0.00143904, 0.00923521, 0.        ],\n",
       "       [0.        , 0.        , 0.00279841]])"
      ]
     },
     "execution_count": 323,
     "metadata": {},
     "output_type": "execute_result"
    }
   ],
   "source": [
    "cov_down = cov_down @ correlation_matrix_down @ cov_down\n",
    "cov_down"
   ]
  },
  {
   "cell_type": "code",
   "execution_count": 324,
   "id": "28a70ffb-360c-41b2-b680-0a56be1c5c8f",
   "metadata": {},
   "outputs": [
    {
     "data": {
      "text/plain": [
       "array([[0.00531441, 0.00084746, 0.        ],\n",
       "       [0.00084746, 0.00390625, 0.        ],\n",
       "       [0.        , 0.        , 0.00028561]])"
      ]
     },
     "execution_count": 324,
     "metadata": {},
     "output_type": "execute_result"
    }
   ],
   "source": [
    "cov_control = cov_control @ correlation_matrix_control @ cov_control\n",
    "cov_control"
   ]
  },
  {
   "cell_type": "code",
   "execution_count": 325,
   "id": "78b89ffe-f00d-4b59-954d-a19a3f482b58",
   "metadata": {},
   "outputs": [
    {
     "data": {
      "text/plain": [
       "(array([[ 0.64048082, -0.45763422,  0.52396608],\n",
       "        [ 0.45052312, -0.59227148,  0.56558925],\n",
       "        [ 0.56724229, -0.6689793 ,  0.47430877],\n",
       "        [ 0.59763533, -0.73031411,  0.53167205],\n",
       "        [ 0.47594115, -0.64262728,  0.64825042],\n",
       "        [ 0.55081414, -0.80618359,  0.52405177],\n",
       "        [ 0.37364069, -0.64840928,  0.58689585],\n",
       "        [ 0.57282906, -0.84960203,  0.59841787],\n",
       "        [ 0.55585133, -0.76989342,  0.56711451],\n",
       "        [ 0.47807066, -0.78714041,  0.64902706],\n",
       "        [ 0.71050277, -0.71789351,  0.63163356],\n",
       "        [ 0.45403568, -0.84594293,  0.61223752],\n",
       "        [ 0.56024985, -0.81699193,  0.50686075],\n",
       "        [ 0.59017325, -0.8673571 ,  0.6223363 ],\n",
       "        [ 0.46594459, -0.91876818,  0.59468102],\n",
       "        [ 0.57533169, -0.62740756,  0.5925375 ],\n",
       "        [ 0.48912359, -0.68386878,  0.53419938],\n",
       "        [ 0.3723333 , -0.70958725,  0.63623503],\n",
       "        [ 0.52674843, -0.75404724,  0.44015795],\n",
       "        [ 0.55158439, -0.61888131,  0.60446323],\n",
       "        [ 0.52387764, -0.62540743,  0.4925139 ],\n",
       "        [ 0.42727011, -0.6046745 ,  0.57924157],\n",
       "        [ 0.54308144, -0.56672831,  0.56807006],\n",
       "        [ 0.54976259, -0.73778172,  0.58092122],\n",
       "        [ 0.58024141, -0.79072178,  0.55489992],\n",
       "        [ 0.69829423, -0.65155442,  0.54467892],\n",
       "        [ 0.70550198, -0.60937487,  0.53962209],\n",
       "        [ 0.40757238, -0.63017838,  0.52907921],\n",
       "        [ 0.44284693, -0.94137742,  0.57121602],\n",
       "        [ 0.46348507, -0.75997309,  0.5953651 ],\n",
       "        [ 0.66243026, -0.8120594 ,  0.60868372],\n",
       "        [ 0.45735012, -0.85687734,  0.52540381],\n",
       "        [ 0.66330037, -0.609449  ,  0.53606006],\n",
       "        [ 0.6238936 , -0.71872747,  0.57087392],\n",
       "        [ 0.59383293, -0.66274194,  0.61666591],\n",
       "        [ 0.56094396, -0.68963426,  0.46771137],\n",
       "        [ 0.36243055, -0.7988913 ,  0.57965403],\n",
       "        [ 0.58432482, -0.51528121,  0.59778985],\n",
       "        [ 0.6144921 , -0.58659208,  0.51495965],\n",
       "        [ 0.50529945, -0.75110858,  0.55289339],\n",
       "        [ 0.60753812, -0.6284797 ,  0.57383167],\n",
       "        [ 0.46022768, -0.64379372,  0.50566252],\n",
       "        [ 0.45244656, -0.77684405,  0.57186621],\n",
       "        [ 0.49742793, -0.68834978,  0.55033549],\n",
       "        [ 0.53970886, -0.81536869,  0.56448833],\n",
       "        [ 0.49679632, -0.79124247,  0.60657472],\n",
       "        [ 0.51256129, -0.69208648,  0.59431329],\n",
       "        [ 0.65006165, -0.68666619,  0.55734374],\n",
       "        [ 0.56265172, -0.78945379,  0.52020087],\n",
       "        [ 0.49023838, -0.70621975,  0.59413673],\n",
       "        [ 0.52762683, -0.67648461,  0.52071654],\n",
       "        [ 0.48874459, -0.60019043,  0.56636143],\n",
       "        [ 0.63172734, -0.63131912,  0.55228313],\n",
       "        [ 0.57268791, -0.81600538,  0.56802326],\n",
       "        [ 0.60742539, -0.59011824,  0.61646732],\n",
       "        [ 0.48936007, -0.76694138,  0.53161502],\n",
       "        [ 0.49331515, -0.74233978,  0.55842864],\n",
       "        [ 0.4582763 , -0.94526742,  0.4893626 ],\n",
       "        [ 0.56905048, -0.67115184,  0.61087844],\n",
       "        [ 0.49560531, -0.70573976,  0.49439337],\n",
       "        [ 0.45612051, -0.79138582,  0.65630938],\n",
       "        [ 0.58172864, -0.7157013 ,  0.59466334],\n",
       "        [ 0.49436816, -0.7264651 ,  0.50151987],\n",
       "        [ 0.49871874, -0.67628234,  0.63643165],\n",
       "        [ 0.57614796, -0.69263557,  0.5898285 ],\n",
       "        [ 0.6246311 , -0.72798583,  0.54473872],\n",
       "        [ 0.76217747, -0.59407184,  0.63212189],\n",
       "        [ 0.44394502, -0.80539066,  0.61761367],\n",
       "        [ 0.53104407, -0.68731245,  0.53773394],\n",
       "        [ 0.56845587, -0.59796641,  0.5294595 ],\n",
       "        [ 0.60651504, -0.64317584,  0.53133643],\n",
       "        [ 0.52738239, -0.61671491,  0.48749111],\n",
       "        [ 0.49721026, -0.74213207,  0.53086148],\n",
       "        [ 0.66210835, -0.7712158 ,  0.49058056],\n",
       "        [ 0.59319954, -0.63307568,  0.57347166],\n",
       "        [ 0.53918941, -0.73044442,  0.6073262 ],\n",
       "        [ 0.54236839, -0.69959323,  0.58924463],\n",
       "        [ 0.54418981, -0.72439541,  0.55989451],\n",
       "        [ 0.56601422, -0.71287902,  0.53889411],\n",
       "        [ 0.47259313, -0.69115578,  0.50815124],\n",
       "        [ 0.60365645, -0.83583972,  0.54216434],\n",
       "        [ 0.43991037, -0.68973213,  0.59230346],\n",
       "        [ 0.50206082, -0.76373048,  0.61500435],\n",
       "        [ 0.48706085, -0.65738161,  0.45350192],\n",
       "        [ 0.60947118, -0.5466024 ,  0.42146124],\n",
       "        [ 0.43979923, -0.81989025,  0.5804038 ],\n",
       "        [ 0.51900705, -0.75812284,  0.53018039],\n",
       "        [ 0.39636641, -0.82611511,  0.51825237],\n",
       "        [ 0.46692606, -0.68644744,  0.68777163],\n",
       "        [ 0.50917317, -0.6366692 ,  0.53668633],\n",
       "        [ 0.56866791, -0.76723365,  0.54566596],\n",
       "        [ 0.50916692, -0.8478252 ,  0.61584068],\n",
       "        [ 0.63787687, -0.63318572,  0.53042055],\n",
       "        [ 0.57102668, -0.7870988 ,  0.55163313],\n",
       "        [ 0.57709123, -0.77901729,  0.60158686],\n",
       "        [ 0.44747426, -0.60808744,  0.57164645],\n",
       "        [ 0.51654888, -0.87579535,  0.67025442],\n",
       "        [ 0.40365391, -0.85529735,  0.54712781],\n",
       "        [ 0.58152157, -0.62364201,  0.49528325],\n",
       "        [ 0.72649246, -0.75329307,  0.54125214],\n",
       "        [ 0.49045791, -0.76265316,  0.49318382],\n",
       "        [ 0.52041553, -0.59077641,  0.5648076 ],\n",
       "        [ 0.53247666, -0.50687766,  0.64915308],\n",
       "        [ 0.51440435, -0.72676469,  0.5495041 ],\n",
       "        [ 0.58060343, -0.70233199,  0.54704824],\n",
       "        [ 0.54048159, -0.75985724,  0.53724484],\n",
       "        [ 0.5923681 , -0.76942701,  0.61545189],\n",
       "        [ 0.63531401, -0.69650123,  0.5868677 ],\n",
       "        [ 0.57112193, -0.6104194 ,  0.60323835],\n",
       "        [ 0.4970184 , -0.84798138,  0.52570658],\n",
       "        [ 0.45757325, -0.79940211,  0.58938375],\n",
       "        [ 0.63088888, -0.7434557 ,  0.60604772],\n",
       "        [ 0.63955275, -0.76323509,  0.61894521],\n",
       "        [ 0.44766086, -0.77026172,  0.49674082],\n",
       "        [ 0.46603018, -0.79484512,  0.47932706],\n",
       "        [ 0.50421522, -0.77768005,  0.54059981],\n",
       "        [ 0.62476128, -0.80445633,  0.53056314],\n",
       "        [ 0.41557007, -0.78157568,  0.59849585],\n",
       "        [ 0.48282916, -0.58988729,  0.5102765 ],\n",
       "        [ 0.5795756 , -0.62432088,  0.59802679],\n",
       "        [ 0.47104667, -0.62595286,  0.54025304],\n",
       "        [ 0.62676862, -0.61528684,  0.62783054],\n",
       "        [ 0.56445863, -0.80164924,  0.5614305 ],\n",
       "        [ 0.53632023, -0.58581144,  0.67639736],\n",
       "        [ 0.51863212, -0.66677788,  0.54919319],\n",
       "        [ 0.48042285, -0.76951902,  0.6059849 ],\n",
       "        [ 0.57973517, -0.57156727,  0.49318385],\n",
       "        [ 0.42595241, -0.789919  ,  0.5547206 ],\n",
       "        [ 0.51213363, -0.72448794,  0.54795126],\n",
       "        [ 0.61735913, -0.74706896,  0.62625385],\n",
       "        [ 0.52787749, -0.6793585 ,  0.52570135],\n",
       "        [ 0.56735771, -0.79124614,  0.5458041 ],\n",
       "        [ 0.53460418, -0.76755475,  0.60996398],\n",
       "        [ 0.57432008, -0.66462955,  0.65113246],\n",
       "        [ 0.38679322, -0.80980989,  0.47695039],\n",
       "        [ 0.6307084 , -0.56336879,  0.49936715],\n",
       "        [ 0.6543267 , -0.69751941,  0.59513364],\n",
       "        [ 0.48230999, -0.65087625,  0.67429081],\n",
       "        [ 0.44400818, -0.81490522,  0.57188956],\n",
       "        [ 0.42735237, -0.69193032,  0.59629858],\n",
       "        [ 0.41317287, -0.74345066,  0.46528905],\n",
       "        [ 0.4658452 , -0.57775164,  0.51890379],\n",
       "        [ 0.67104445, -0.87580128,  0.53730997],\n",
       "        [ 0.43925629, -0.65682956,  0.56668664],\n",
       "        [ 0.46690936, -0.52407706,  0.46668358],\n",
       "        [ 0.50253819, -0.79870292,  0.60831599],\n",
       "        [ 0.59908803, -0.79975239,  0.56982328],\n",
       "        [ 0.65178333, -0.62748802,  0.66351541],\n",
       "        [ 0.47331088, -0.57923037,  0.65222053],\n",
       "        [ 0.50121862, -0.75072386,  0.56901548],\n",
       "        [ 0.48633528, -0.60841582,  0.52651554],\n",
       "        [ 0.67842937, -0.64441127,  0.54203118],\n",
       "        [ 0.46178425, -0.71482244,  0.67783587]]),\n",
       " (153, 3))"
      ]
     },
     "execution_count": 325,
     "metadata": {},
     "output_type": "execute_result"
    }
   ],
   "source": [
    "log_marker_values_down = np.random.multivariate_normal(\n",
    "    mean_down,\n",
    "    cov_down,\n",
    "    np.sum(is_down)\n",
    ")\n",
    "\n",
    "log_marker_values_down, log_marker_values_down.shape"
   ]
  },
  {
   "cell_type": "code",
   "execution_count": 326,
   "id": "0c01a75b-8bbf-4e6c-b9af-140c7a90cf67",
   "metadata": {},
   "outputs": [
    {
     "data": {
      "text/plain": [
       "(array([[ 0.01228474, -0.03512532, -0.01406786],\n",
       "        [ 0.07783058, -0.02319073,  0.00148299],\n",
       "        [-0.0180382 , -0.00813195,  0.03117401],\n",
       "        ...,\n",
       "        [ 0.06829399,  0.03078748,  0.0172539 ],\n",
       "        [-0.0372469 ,  0.01955245, -0.00059807],\n",
       "        [ 0.0379814 , -0.01990393, -0.00944319]]),\n",
       " (99847, 3))"
      ]
     },
     "execution_count": 326,
     "metadata": {},
     "output_type": "execute_result"
    }
   ],
   "source": [
    "log_marker_values_control = np.random.multivariate_normal(\n",
    "    mean_control,\n",
    "    cov_control,\n",
    "    np.sum(~is_down)\n",
    ")\n",
    "\n",
    "log_marker_values_control, log_marker_values_control.shape"
   ]
  },
  {
   "cell_type": "code",
   "execution_count": 327,
   "id": "6fd9d1f2-6b85-4b6a-abca-46ebca186ee3",
   "metadata": {},
   "outputs": [
    {
     "data": {
      "text/plain": [
       "(100000, 3)"
      ]
     },
     "execution_count": 327,
     "metadata": {},
     "output_type": "execute_result"
    }
   ],
   "source": [
    "log_marker_values = np.zeros((sample_size, len(marker_config.markers)))\n",
    "log_marker_values.shape"
   ]
  },
  {
   "cell_type": "code",
   "execution_count": 328,
   "id": "43b9ac4b-6d6b-40de-87d9-2f13d60e59ed",
   "metadata": {},
   "outputs": [],
   "source": [
    "log_marker_values[is_down] = log_marker_values_down\n",
    "log_marker_values[~is_down] = log_marker_values_control"
   ]
  },
  {
   "cell_type": "code",
   "execution_count": 329,
   "id": "3853e1b4-3eeb-4c48-b806-4cb9f924ae63",
   "metadata": {},
   "outputs": [
    {
     "data": {
      "text/plain": [
       "array([[ 0.01228474, -0.03512532, -0.01406786],\n",
       "       [ 0.07783058, -0.02319073,  0.00148299],\n",
       "       [-0.0180382 , -0.00813195,  0.03117401],\n",
       "       ...,\n",
       "       [ 0.06829399,  0.03078748,  0.0172539 ],\n",
       "       [-0.0372469 ,  0.01955245, -0.00059807],\n",
       "       [ 0.0379814 , -0.01990393, -0.00944319]])"
      ]
     },
     "execution_count": 329,
     "metadata": {},
     "output_type": "execute_result"
    }
   ],
   "source": [
    "log_marker_values"
   ]
  },
  {
   "cell_type": "code",
   "execution_count": 330,
   "id": "12a84074-89bf-499f-8c2b-9369a4c750fd",
   "metadata": {},
   "outputs": [
    {
     "data": {
      "text/plain": [
       "array([[1.01236051, 0.96548441, 0.98603063],\n",
       "       [1.08093951, 0.97707611, 1.00148409],\n",
       "       [0.98212351, 0.99190103, 1.03166501],\n",
       "       ...,\n",
       "       [1.07068003, 1.03126631, 1.01740361],\n",
       "       [0.96343823, 1.01974485, 0.99940211],\n",
       "       [1.03871191, 0.98029285, 0.99060126]])"
      ]
     },
     "execution_count": 330,
     "metadata": {},
     "output_type": "execute_result"
    }
   ],
   "source": [
    "marker_values = np.exp(log_marker_values)\n",
    "marker_values"
   ]
  },
  {
   "cell_type": "code",
   "execution_count": 341,
   "id": "1c66abcc-6070-4782-9e55-03681ef0f47d",
   "metadata": {},
   "outputs": [
    {
     "data": {
      "text/plain": [
       "<mpl_toolkits.mplot3d.art3d.Path3DCollection at 0x119765b50>"
      ]
     },
     "execution_count": 341,
     "metadata": {},
     "output_type": "execute_result"
    },
    {
     "data": {
      "image/png": "[encoded data removed]",
      "text/plain": [
       "<Figure size 640x480 with 1 Axes>"
      ]
     },
     "metadata": {},
     "output_type": "display_data"
    }
   ],
   "source": [
    "fig = plt.figure()\n",
    "ax = fig.add_subplot(111, projection='3d')\n",
    "\n",
    "ax.scatter(\n",
    "    marker_values[:,0], \n",
    "    marker_values[:,1],  \n",
    "    # marker_values[:,2],\n",
    "    maternal_age,\n",
    "    c=~is_down\n",
    ")"
   ]
  },
  {
   "cell_type": "code",
   "execution_count": null,
   "id": "87ebfeae-02b7-4731-9303-bb8c43fd892c",
   "metadata": {},
   "outputs": [],
   "source": []
  }
 ],
 "metadata": {
  "kernelspec": {
   "display_name": "downs",
   "language": "python",
   "name": "downs"
  },
  "language_info": {
   "codemirror_mode": {
    "name": "ipython",
    "version": 3
   },
   "file_extension": ".py",
   "mimetype": "text/x-python",
   "name": "python",
   "nbconvert_exporter": "python",
   "pygments_lexer": "ipython3",
   "version": "3.12.4"
  }
 },
 "nbformat": 4,
 "nbformat_minor": 5
}
