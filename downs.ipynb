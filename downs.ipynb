{
 "cells": [
  {
   "cell_type": "markdown",
   "id": "cfabd6c5-567e-47a5-8d87-4292d0274e50",
   "metadata": {},
   "source": [
    "# Modeling the Probability Distribution"
   ]
  },
  {
   "cell_type": "code",
   "execution_count": 397,
   "id": "2fa2f3c7-6160-45c7-988c-3c44b5e7ef25",
   "metadata": {},
   "outputs": [],
   "source": [
    "import math\n",
    "import numpy as np\n",
    "from dataclasses import dataclass, field\n",
    "from typing import List, Tuple\n",
    "from pprint import pprint\n",
    "import matplotlib.pyplot as plt"
   ]
  },
  {
   "cell_type": "code",
   "execution_count": 398,
   "id": "3a4d63e4-b111-42f6-a3f4-a5fd68291873",
   "metadata": {},
   "outputs": [],
   "source": [
    "@dataclass\n",
    "class Marker:\n",
    "    name: str\n",
    "    median_mom_down: float\n",
    "    median_mom_control: float\n",
    "    log_sd_down: float = 0.0 # log of the sd of the marker in Down Syndrome cases\n",
    "    log_sd_control: float = 0.0 # log of the sd of the marker in Control cases"
   ]
  },
  {
   "cell_type": "code",
   "execution_count": 399,
   "id": "bc8cba81-d2b5-470d-9cf1-78b13b6dcc62",
   "metadata": {},
   "outputs": [],
   "source": [
    "@dataclass\n",
    "class PopulationConfig:\n",
    "    \"\"\"\n",
    "    Maternal Age is Normally distributed.\n",
    "    \"\"\"\n",
    "    maternal_age_mean: float = 27.0 # Mean maternal age in years\n",
    "    maternal_age_sd: float = 5.5 # SD of maternal age in years\n",
    "\n",
    "    down_syndrome_prevalence: float = 1/700 # Prevalence of Down syndrome in the population\n",
    "\n",
    "@dataclass\n",
    "class MarkersConfig:\n",
    "    \"\"\"\n",
    "    Config for the various markers being analysed\n",
    "    \"\"\"\n",
    "    markers: list[Marker] = field(default_factory=list)\n",
    "    \n",
    "    correlation_matrix_down: np.ndarray = field(default_factory=lambda: np.eye(1)) # Correlatiuon matrix for Down syndrome cases\n",
    "    correlation_matrix_control: np.ndarray = field(default_factory=lambda: np.eye(1)) # Correlation matrix for control cases\n",
    "\n",
    "    def __post_init__(self):\n",
    "        self.markers = [\n",
    "            Marker(name=\"Free B-hCG\", median_mom_down=1.70, median_mom_control=1.01, log_sd_down=0.28, log_sd_control=0.27),\n",
    "            Marker(name=\"PAPP-A\", median_mom_down=0.49, median_mom_control=1.00, log_sd_down=0.31, log_sd_control=0.25),\n",
    "            Marker(name=\"NT\", median_mom_down=1.74, median_mom_control=1.01, log_sd_down=0.23, log_sd_control=0.13),\n",
    "        ]\n",
    "\n",
    "        markers_count = len(self.markers)\n",
    "        self.correlation_matrix_down = self.correlation_matrix_control = np.eye(markers_count)"
   ]
  },
  {
   "cell_type": "code",
   "execution_count": 400,
   "id": "16fbced6-668f-4328-a99a-11510175860c",
   "metadata": {},
   "outputs": [
    {
     "name": "stdout",
     "output_type": "stream",
     "text": [
      "PopulationConfig(maternal_age_mean=27.0,\n",
      "                 maternal_age_sd=5.5,\n",
      "                 down_syndrome_prevalence=0.0014285714285714286)\n",
      "MarkersConfig(markers=[Marker(name='Free B-hCG',\n",
      "                              median_mom_down=1.7,\n",
      "                              median_mom_control=1.01,\n",
      "                              log_sd_down=0.28,\n",
      "                              log_sd_control=0.27),\n",
      "                       Marker(name='PAPP-A',\n",
      "                              median_mom_down=0.49,\n",
      "                              median_mom_control=1.0,\n",
      "                              log_sd_down=0.31,\n",
      "                              log_sd_control=0.25),\n",
      "                       Marker(name='NT',\n",
      "                              median_mom_down=1.74,\n",
      "                              median_mom_control=1.01,\n",
      "                              log_sd_down=0.23,\n",
      "                              log_sd_control=0.13)],\n",
      "              correlation_matrix_down=array([[1., 0., 0.],\n",
      "       [0., 1., 0.],\n",
      "       [0., 0., 1.]]),\n",
      "              correlation_matrix_control=array([[1., 0., 0.],\n",
      "       [0., 1., 0.],\n",
      "       [0., 0., 1.]]))\n"
     ]
    }
   ],
   "source": [
    "pop_config = PopulationConfig(\n",
    "    maternal_age_mean = 27.0,\n",
    "    maternal_age_sd = 5.5\n",
    ")\n",
    "\n",
    "marker_config = MarkersConfig()\n",
    "\n",
    "pprint(pop_config)\n",
    "pprint(marker_config)"
   ]
  },
  {
   "cell_type": "code",
   "execution_count": 401,
   "id": "95f51ba5-9e5d-4cf5-b39f-28a060fc59d0",
   "metadata": {},
   "outputs": [
    {
     "data": {
      "text/plain": [
       "array([[1., 0., 0.],\n",
       "       [0., 1., 0.],\n",
       "       [0., 0., 1.]])"
      ]
     },
     "execution_count": 401,
     "metadata": {},
     "output_type": "execute_result"
    }
   ],
   "source": [
    "config.correlation_matrix_control"
   ]
  },
  {
   "cell_type": "code",
   "execution_count": 402,
   "id": "601425dd-1033-4eb9-90bd-c56249bc582c",
   "metadata": {},
   "outputs": [
    {
     "name": "stdout",
     "output_type": "stream",
     "text": [
      "0.00158\n"
     ]
    }
   ],
   "source": [
    "sample_size: int = 100_000\n",
    "\n",
    "is_down = np.random.random(sample_size) < pop_config.down_syndrome_prevalence\n",
    "\n",
    "sampled_prevalence = (np.sum(is_down) / sample_size)\n",
    "print(sampled_prevalence)\n",
    "\n",
    "assert np.allclose(sampled_prevalence, pop_config.down_syndrome_prevalence, atol=1/2000), \"Sampled prevalence should be similar to expected prevalence\""
   ]
  },
  {
   "cell_type": "code",
   "execution_count": 403,
   "id": "68e87514-5afc-4945-826b-e708f19837d7",
   "metadata": {
    "scrolled": true
   },
   "outputs": [
    {
     "data": {
      "text/plain": [
       "(0.09, 0.19)"
      ]
     },
     "execution_count": 403,
     "metadata": {},
     "output_type": "execute_result"
    }
   ],
   "source": [
    "min_max = lambda v, tol: ((v - tol) * 100, (v + tol) * 100)\n",
    "\n",
    "min_max(0.0014, 1/2000)"
   ]
  },
  {
   "cell_type": "markdown",
   "id": "ab1e11fd-d92d-43e7-9b80-e5bf3c10cebc",
   "metadata": {},
   "source": [
    "Let X be a random variable with a log normal distribution  $N(\\mu_X, \\sigma^2_X$). Then the $ln(X)$ has the mean $\\mu$ and variance $\\sigma^2$.\n",
    "\n",
    "$$\n",
    "\\begin{align}\n",
    "\\mu &= ln({\\frac{\\mu^2_X}{\\sqrt{\\mu^2_X + \\sigma^2_X}}}) \\\\\n",
    "\\sigma^2 &= ln(1 + \\frac{\\sigma^2_X}{\\mu^2_X})\n",
    "\\end{align}\n",
    "$$"
   ]
  },
  {
   "cell_type": "code",
   "execution_count": 404,
   "id": "0d556e20-bb48-42c1-a049-577e6ea1c911",
   "metadata": {},
   "outputs": [
    {
     "name": "stdout",
     "output_type": "stream",
     "text": [
      "3.275508180045729 0.20163673255932293\n"
     ]
    },
    {
     "data": {
      "text/plain": [
       "array([2.95944013, 3.30884324, 3.07669179, ..., 3.41046984, 3.38456257,\n",
       "       3.45887912])"
      ]
     },
     "execution_count": 404,
     "metadata": {},
     "output_type": "execute_result"
    }
   ],
   "source": [
    "mu = np.log(pop_config.maternal_age_mean**2 / (np.sqrt(pop_config.maternal_age_mean**2 + pop_config.maternal_age_sd**2)))\n",
    "sig2 = np.log(1 + (pop_config.maternal_age_sd ** 2 / pop_config.maternal_age_mean ** 2))\n",
    "sig = np.sqrt(sig2)\n",
    "\n",
    "log_maternal_ages = np.random.normal(\n",
    "    mu,\n",
    "    sig,\n",
    "    sample_size\n",
    ")\n",
    "\n",
    "print(\n",
    "    mu, sig\n",
    ")\n",
    "\n",
    "log_maternal_ages"
   ]
  },
  {
   "cell_type": "code",
   "execution_count": 405,
   "id": "007481a0-4969-4170-abff-bd020ddfc1c4",
   "metadata": {},
   "outputs": [],
   "source": [
    "def summary_stats(data: np.ndarray):\n",
    "    print(f\"X ~ N(μ, σ^2): N({np.mean(data):.4f}, {np.std(data)**2:.4f})\")\n",
    "    print(f\"Range: {np.min(data):.4f} ≤ X ≤ {np.max(data):.4f}\")\n",
    "\n",
    "    print(f\"median (M): {np.median(data):.4f}\\n\")"
   ]
  },
  {
   "cell_type": "code",
   "execution_count": 406,
   "id": "aa9b4505-4d2a-48e0-a874-08049f444962",
   "metadata": {},
   "outputs": [
    {
     "data": {
      "text/plain": [
       "(array([1.000e+00, 6.000e+00, 2.100e+01, 5.200e+01, 1.200e+02, 3.330e+02,\n",
       "        6.600e+02, 1.140e+03, 1.849e+03, 2.801e+03, 3.748e+03, 4.861e+03,\n",
       "        5.840e+03, 6.628e+03, 7.131e+03, 7.409e+03, 7.410e+03, 7.152e+03,\n",
       "        6.611e+03, 6.068e+03, 5.389e+03, 4.709e+03, 3.949e+03, 3.347e+03,\n",
       "        2.747e+03, 2.255e+03, 1.726e+03, 1.442e+03, 1.123e+03, 8.400e+02,\n",
       "        6.260e+02, 5.020e+02, 4.060e+02, 3.090e+02, 2.050e+02, 1.520e+02,\n",
       "        1.280e+02, 7.700e+01, 5.700e+01, 6.100e+01, 3.500e+01, 1.900e+01,\n",
       "        1.900e+01, 1.000e+01, 8.000e+00, 1.000e+01, 2.000e+00, 2.000e+00,\n",
       "        2.000e+00, 2.000e+00]),\n",
       " array([ 9.87970597, 10.85373216, 11.82775835, 12.80178454, 13.77581073,\n",
       "        14.74983692, 15.72386311, 16.6978893 , 17.67191549, 18.64594168,\n",
       "        19.61996787, 20.59399406, 21.56802024, 22.54204643, 23.51607262,\n",
       "        24.49009881, 25.464125  , 26.43815119, 27.41217738, 28.38620357,\n",
       "        29.36022976, 30.33425595, 31.30828214, 32.28230832, 33.25633451,\n",
       "        34.2303607 , 35.20438689, 36.17841308, 37.15243927, 38.12646546,\n",
       "        39.10049165, 40.07451784, 41.04854403, 42.02257022, 42.99659641,\n",
       "        43.97062259, 44.94464878, 45.91867497, 46.89270116, 47.86672735,\n",
       "        48.84075354, 49.81477973, 50.78880592, 51.76283211, 52.7368583 ,\n",
       "        53.71088449, 54.68491068, 55.65893686, 56.63296305, 57.60698924,\n",
       "        58.58101543]),\n",
       " <BarContainer object of 50 artists>)"
      ]
     },
     "execution_count": 406,
     "metadata": {},
     "output_type": "execute_result"
    },
    {
     "data": {
      "image/png": "[encoded data removed]",
      "text/plain": [
       "<Figure size 640x480 with 1 Axes>"
      ]
     },
     "metadata": {},
     "output_type": "display_data"
    }
   ],
   "source": [
    "maternal_age = np.exp(log_maternal_ages)\n",
    "plt.hist(maternal_age, bins=50)"
   ]
  },
  {
   "cell_type": "code",
   "execution_count": 407,
   "id": "d2d1b270-a820-4d88-87b6-0416eda4be79",
   "metadata": {},
   "outputs": [
    {
     "name": "stdout",
     "output_type": "stream",
     "text": [
      "X ~ N(μ, σ^2): N(3.2748, 0.0408)\n",
      "Range: 2.2905 ≤ X ≤ 4.0704\n",
      "median (M): 3.2747\n",
      "\n",
      "X ~ N(μ, σ^2): N(26.9808, 30.2446)\n",
      "Range: 9.8797 ≤ X ≤ 58.5810\n",
      "median (M): 26.4363\n",
      "\n"
     ]
    }
   ],
   "source": [
    "summary_stats(log_maternal_ages)\n",
    "summary_stats(np.exp(log_maternal_ages))"
   ]
  },
  {
   "cell_type": "markdown",
   "id": "88bc4a69-37b0-4827-8cde-7d19e5e9b234",
   "metadata": {},
   "source": [
    "$$\n",
    "Y = ln(X), Y \\sim N(\\mu, \\sigma)\n",
    "$$"
   ]
  },
  {
   "cell_type": "markdown",
   "id": "8c6fa750-1228-4a2f-9925-dde548cda39d",
   "metadata": {},
   "source": [
    "$$\n",
    "M = e^\\mu\n",
    "=> ln(M) = \\mu\n",
    "$$"
   ]
  },
  {
   "cell_type": "code",
   "execution_count": 408,
   "id": "0f543dab-43ef-49f0-be78-45cc8ba610a1",
   "metadata": {},
   "outputs": [
    {
     "data": {
      "text/plain": [
       "(array([ 0.53062825, -0.71334989,  0.55388511]),\n",
       " array([0.00995033, 0.        , 0.00995033]))"
      ]
     },
     "execution_count": 408,
     "metadata": {},
     "output_type": "execute_result"
    }
   ],
   "source": [
    "mean_down = np.log([m.median_mom_down for m in marker_config.markers])\n",
    "mean_control = np.log([m.median_mom_control for m in marker_config.markers])\n",
    "\n",
    "mean_down, mean_control"
   ]
  },
  {
   "cell_type": "markdown",
   "id": "36d2a61c-54c0-45cf-9f34-cba05e8020a4",
   "metadata": {},
   "source": [
    "## Covariance Matrices and Multivariate Distribution"
   ]
  },
  {
   "cell_type": "markdown",
   "id": "79cd39c9-4ec5-4364-8829-f6d1cc9005d9",
   "metadata": {},
   "source": [
    "Assuming that $X_i$ for all $i=0...n$ are independent random variables, the $Cov(X_i, Y_j) = 0$ and hence we get the following diagnol form containing only the variances.\n",
    "\n",
    "$$\n",
    "Cov(X, X) = Var(X) = \\begin{bmatrix}\n",
    "Var(X_1) & 0 & 0\\\\\n",
    "0 & Var(X_2) & 0\\\\\n",
    "0 & 0 & Var(X_3)\n",
    "\\end{bmatrix}\n",
    "$$\n",
    "\n",
    "The covariance matrix is a diagonal matrix containing only the variances of each of the markers."
   ]
  },
  {
   "cell_type": "code",
   "execution_count": 409,
   "id": "da497634-e7b9-4fe1-9dfb-9e18b58323cb",
   "metadata": {},
   "outputs": [
    {
     "data": {
      "text/plain": [
       "(array([[0.0784, 0.    , 0.    ],\n",
       "        [0.    , 0.0961, 0.    ],\n",
       "        [0.    , 0.    , 0.0529]]),\n",
       " array([[0.0729, 0.    , 0.    ],\n",
       "        [0.    , 0.0625, 0.    ],\n",
       "        [0.    , 0.    , 0.0169]]))"
      ]
     },
     "execution_count": 409,
     "metadata": {},
     "output_type": "execute_result"
    }
   ],
   "source": [
    "cov_down = np.diag([m.log_sd_down**2 for m in marker_config.markers])\n",
    "cov_control = np.diag([m.log_sd_control**2 for m in marker_config.markers])\n",
    "\n",
    "cov_down, cov_control"
   ]
  },
  {
   "cell_type": "code",
   "execution_count": 410,
   "id": "cf1d8945-0c83-4381-a1f3-2d477bccff04",
   "metadata": {},
   "outputs": [],
   "source": [
    "correlation_matrix_down = np.array(\n",
    "    [[1., 0.191, 0.],\n",
    "     [0.191, 1., 0.],\n",
    "     [0., 0., 1.]]\n",
    ")"
   ]
  },
  {
   "cell_type": "code",
   "execution_count": 411,
   "id": "af720a08-2e92-4730-8da3-795c2eca9e12",
   "metadata": {},
   "outputs": [],
   "source": [
    "correlation_matrix_control = np.array(\n",
    "    [[1., 0.186, 0.],\n",
    "     [0.186, 1., 0.],\n",
    "     [0., 0., 1.]]\n",
    ")"
   ]
  },
  {
   "cell_type": "code",
   "execution_count": 412,
   "id": "7d3d06f8-1e5e-4fe8-9d13-e5d11b70e549",
   "metadata": {},
   "outputs": [
    {
     "data": {
      "text/plain": [
       "((3, 3), (3, 3))"
      ]
     },
     "execution_count": 412,
     "metadata": {},
     "output_type": "execute_result"
    }
   ],
   "source": [
    "cov_down.shape, correlation_matrix_down.shape"
   ]
  },
  {
   "cell_type": "code",
   "execution_count": 413,
   "id": "44247ecd-5258-4436-8626-026fc23eed11",
   "metadata": {},
   "outputs": [
    {
     "data": {
      "text/plain": [
       "array([[0.0784   , 0.0165788, 0.       ],\n",
       "       [0.0165788, 0.0961   , 0.       ],\n",
       "       [0.       , 0.       , 0.0529   ]])"
      ]
     },
     "execution_count": 413,
     "metadata": {},
     "output_type": "execute_result"
    }
   ],
   "source": [
    "cov_down = np.sqrt(cov_down) @ correlation_matrix_down @ np.sqrt(cov_down)\n",
    "cov_down"
   ]
  },
  {
   "cell_type": "code",
   "execution_count": 414,
   "id": "28a70ffb-360c-41b2-b680-0a56be1c5c8f",
   "metadata": {},
   "outputs": [
    {
     "data": {
      "text/plain": [
       "array([[0.0729  , 0.012555, 0.      ],\n",
       "       [0.012555, 0.0625  , 0.      ],\n",
       "       [0.      , 0.      , 0.0169  ]])"
      ]
     },
     "execution_count": 414,
     "metadata": {},
     "output_type": "execute_result"
    }
   ],
   "source": [
    "cov_control = np.sqrt(cov_control) @ correlation_matrix_control @ np.sqrt(cov_control)\n",
    "cov_control"
   ]
  },
  {
   "cell_type": "code",
   "execution_count": 415,
   "id": "78b89ffe-f00d-4b59-954d-a19a3f482b58",
   "metadata": {
    "scrolled": true
   },
   "outputs": [
    {
     "data": {
      "text/plain": [
       "(array([[ 7.92637306e-01, -6.25442737e-01,  2.91406031e-01],\n",
       "        [ 7.11881015e-01, -9.12072672e-01,  9.19873395e-01],\n",
       "        [ 4.95040615e-01, -3.25126354e-01,  5.11020872e-01],\n",
       "        [ 3.20752995e-01, -9.81852108e-01,  3.99680760e-01],\n",
       "        [ 4.03824420e-01, -9.42267684e-01, -4.71422386e-02],\n",
       "        [ 6.90955335e-01, -1.33213374e+00,  6.87189970e-01],\n",
       "        [-5.47696889e-01, -1.10582127e+00,  8.30730923e-01],\n",
       "        [ 6.83661033e-01, -1.37157094e-01,  4.54893557e-01],\n",
       "        [ 3.82695653e-01, -5.53495796e-01,  4.76828923e-01],\n",
       "        [-2.80556570e-01, -7.22151478e-01,  4.70742833e-01],\n",
       "        [ 1.64110182e-01, -1.09916867e+00,  7.22108341e-01],\n",
       "        [ 6.55299951e-01, -7.41294183e-01,  1.35689925e-01],\n",
       "        [ 1.23049555e+00, -4.67505924e-01,  6.89741589e-01],\n",
       "        [ 4.86109634e-02, -1.17927189e+00,  8.95105549e-01],\n",
       "        [ 1.97938818e-01, -7.55913371e-01,  3.95673739e-01],\n",
       "        [ 8.03379877e-01, -7.62466474e-01,  5.30802357e-01],\n",
       "        [ 2.98341183e-01, -6.93062005e-01,  7.61946423e-01],\n",
       "        [ 4.79445113e-01, -3.77683201e-01,  4.35704580e-01],\n",
       "        [ 4.01109224e-01, -6.65756950e-01,  5.45933342e-01],\n",
       "        [ 4.04681257e-01, -5.43653374e-01,  2.38687752e-01],\n",
       "        [ 4.77972421e-01, -7.88183096e-01,  5.33732833e-01],\n",
       "        [ 1.14807457e+00, -2.27384844e-01,  3.15108857e-01],\n",
       "        [ 5.62766054e-01, -1.63537861e-01,  4.44510172e-01],\n",
       "        [ 1.46873376e-01, -1.72303256e-01,  5.21654986e-01],\n",
       "        [ 6.61001020e-01, -1.15573666e+00,  7.28152779e-01],\n",
       "        [ 9.00794443e-01, -8.71830417e-01,  8.88499247e-01],\n",
       "        [ 6.37143580e-01, -1.20676507e-01,  3.49151745e-01],\n",
       "        [ 1.84767998e-01, -5.86142350e-01,  6.62574913e-01],\n",
       "        [-3.15853561e-01, -8.59453139e-01,  6.19544492e-01],\n",
       "        [ 4.34428809e-01, -1.06157646e+00,  6.94479186e-01],\n",
       "        [ 7.88671093e-01, -8.21923890e-01,  1.04756327e+00],\n",
       "        [-2.60961471e-01, -8.10414802e-01,  1.89642555e-01],\n",
       "        [ 3.17109674e-01, -8.10493834e-01,  8.08927362e-01],\n",
       "        [ 2.76849808e-01, -1.44344900e+00,  6.73452283e-01],\n",
       "        [ 2.10654883e-01, -5.80933319e-01,  6.16013425e-01],\n",
       "        [ 3.62252762e-01, -1.08250756e+00,  6.22018876e-01],\n",
       "        [ 5.58374705e-01, -4.47891596e-01,  1.87991762e-01],\n",
       "        [ 4.07448266e-01, -8.01151375e-01,  4.41970656e-01],\n",
       "        [ 5.59826131e-01, -7.60620392e-01,  5.73350739e-01],\n",
       "        [ 7.45792431e-01, -1.05446476e+00,  3.27350985e-01],\n",
       "        [ 3.23274802e-01, -1.23547914e+00,  7.00703778e-01],\n",
       "        [ 2.50318354e-01, -1.01867002e+00,  4.88135762e-01],\n",
       "        [ 3.15342370e-01, -8.91646883e-01,  9.00507202e-01],\n",
       "        [ 7.50190475e-01, -7.02299135e-01,  4.52799594e-01],\n",
       "        [ 3.16317188e-01, -1.37974847e-01,  3.57544445e-01],\n",
       "        [ 7.50194187e-01, -6.79325598e-01,  5.38902640e-01],\n",
       "        [ 8.84909076e-02, -8.70934861e-01,  4.78010920e-01],\n",
       "        [ 2.00533562e-01, -9.47158480e-01,  8.26892824e-01],\n",
       "        [ 7.16050725e-01, -7.51428417e-01,  5.50915603e-01],\n",
       "        [ 2.70349967e-01, -7.45997700e-01,  5.12314025e-01],\n",
       "        [ 9.44171307e-02, -8.76310945e-01,  4.07641930e-01],\n",
       "        [ 4.44617812e-01, -6.44355850e-01,  4.09183331e-01],\n",
       "        [ 7.61707922e-01, -9.19179989e-01,  1.40306613e-01],\n",
       "        [-2.80809475e-02, -1.56973783e-01,  4.10075439e-01],\n",
       "        [ 7.54950773e-01, -5.16066789e-01,  6.36794493e-01],\n",
       "        [ 2.42171345e-01, -1.11188605e+00,  5.16967535e-01],\n",
       "        [ 1.13343016e+00, -1.00805825e+00,  4.92314674e-01],\n",
       "        [ 3.75151123e-01, -6.98296021e-01,  2.45537677e-01],\n",
       "        [ 5.48681444e-01, -3.29251345e-01,  2.21525517e-01],\n",
       "        [ 6.12710563e-01, -8.89560186e-01,  9.28857881e-02],\n",
       "        [ 2.46173974e-01, -6.53193875e-01,  3.98964542e-01],\n",
       "        [ 8.60523135e-01, -9.77359763e-01,  3.98016341e-01],\n",
       "        [ 8.09738241e-01, -5.66798363e-01,  6.34885361e-01],\n",
       "        [ 9.65992220e-02, -1.26180688e+00,  3.06556328e-01],\n",
       "        [ 9.61315631e-01, -7.37236815e-01,  3.69163210e-01],\n",
       "        [ 5.69843101e-01, -1.05334146e+00,  5.82618263e-01],\n",
       "        [ 2.44234584e-01, -1.02522981e+00,  3.45307435e-01],\n",
       "        [ 1.83237538e-01, -5.29186204e-01,  4.33517348e-01],\n",
       "        [ 5.05924067e-01, -3.25803806e-01,  6.28348261e-01],\n",
       "        [ 4.48557704e-01, -7.40306296e-01,  4.52247409e-01],\n",
       "        [ 1.20825585e+00, -3.66143344e-01,  3.96955743e-01],\n",
       "        [ 8.09630694e-01, -2.77644996e-01,  4.91242545e-01],\n",
       "        [ 6.81628873e-01, -1.03121615e+00,  2.97836032e-01],\n",
       "        [ 3.00471042e-01, -1.02251761e+00,  4.70102898e-01],\n",
       "        [ 3.34152626e-01, -8.30700760e-01,  8.17333609e-01],\n",
       "        [ 6.78650589e-01, -3.38704542e-01,  6.89115684e-01],\n",
       "        [ 9.66132984e-01, -5.70981137e-01,  1.60489046e-01],\n",
       "        [-7.85357191e-02, -7.12214649e-01,  7.44259542e-01],\n",
       "        [ 7.59268502e-01, -4.85595904e-01,  5.68930193e-01],\n",
       "        [ 9.71524884e-01, -4.51177147e-01, -1.36919762e-01],\n",
       "        [ 7.81348735e-01, -3.68340948e-02,  2.43187427e-01],\n",
       "        [ 8.38361625e-01, -6.07197975e-01,  3.38085984e-01],\n",
       "        [ 6.49790760e-01, -8.94837189e-01,  4.53055589e-01],\n",
       "        [ 6.17180239e-01,  3.39578066e-01,  1.03434182e-03],\n",
       "        [ 2.28494237e-01, -9.34203240e-01,  6.94280111e-01],\n",
       "        [-2.88072935e-02, -5.84270543e-01,  8.07355422e-01],\n",
       "        [ 5.24500777e-01, -9.37342363e-01,  3.80659739e-01],\n",
       "        [-5.61103887e-02, -6.71970194e-01,  3.32246662e-01],\n",
       "        [ 5.77917250e-01, -1.24139390e+00,  8.47952241e-01],\n",
       "        [ 3.55976618e-01, -1.00479319e+00,  1.98265743e-01],\n",
       "        [ 5.56405941e-01, -6.22390652e-01,  2.46069487e-01],\n",
       "        [ 4.30785292e-01, -1.16362198e+00,  3.90138814e-01],\n",
       "        [ 5.42303935e-01, -1.70077680e-01,  5.91268285e-01],\n",
       "        [ 4.27786887e-01, -8.67406072e-01,  4.92526306e-01],\n",
       "        [ 1.89129810e-01, -7.24675084e-01,  9.07606388e-01],\n",
       "        [ 5.67052080e-01, -3.68514753e-01,  1.68900850e-02],\n",
       "        [ 5.58347756e-01, -8.95232884e-01,  3.94022546e-01],\n",
       "        [ 2.18917051e-01, -6.79808090e-01,  5.88548987e-01],\n",
       "        [ 2.18776508e-01, -1.30199801e+00,  7.56668122e-01],\n",
       "        [ 2.72613698e-01, -9.30634440e-01,  1.70722329e-01],\n",
       "        [ 5.14949576e-01, -6.56291250e-01,  7.52929431e-01],\n",
       "        [-8.71722585e-02, -5.30364795e-01,  9.27430257e-01],\n",
       "        [ 6.73345187e-01, -1.07438745e+00,  4.22211718e-02],\n",
       "        [ 7.38672786e-01, -3.00950976e-01,  7.32652178e-01],\n",
       "        [ 4.66003739e-01, -6.21355109e-01,  5.76782984e-01],\n",
       "        [ 8.19749450e-01, -1.17767303e+00,  5.44409831e-01],\n",
       "        [ 5.05152513e-01, -1.32362790e+00,  2.50449867e-01],\n",
       "        [ 1.16431202e+00, -6.48226088e-01,  4.74502417e-01],\n",
       "        [ 6.84681085e-01, -3.87343555e-01,  3.36126727e-01],\n",
       "        [ 6.05313611e-01, -7.19045124e-01,  5.45233626e-01],\n",
       "        [ 5.53144453e-01, -6.84212994e-01,  8.02991243e-01],\n",
       "        [ 2.25532265e-01, -1.04858328e+00,  9.44205773e-01],\n",
       "        [ 1.26591815e-01, -6.35319082e-01,  4.25315644e-01],\n",
       "        [ 6.25213654e-01, -4.56737358e-01,  9.98665951e-01],\n",
       "        [-1.06637643e-02, -8.13819152e-01,  8.93763542e-01],\n",
       "        [ 4.42345714e-01, -7.74911824e-01,  3.31532797e-01],\n",
       "        [ 4.78107161e-01, -8.73446921e-01,  4.09091291e-01],\n",
       "        [ 4.83909712e-01, -1.07440984e+00,  7.79235288e-01],\n",
       "        [ 6.13783255e-01, -8.58332343e-01,  3.75104484e-01],\n",
       "        [ 5.86783413e-02, -4.96377486e-01,  6.55786040e-01],\n",
       "        [ 5.61640457e-01, -7.30745536e-01,  7.36285016e-01],\n",
       "        [ 7.32605650e-01, -5.02214312e-01,  7.83683372e-01],\n",
       "        [ 3.50397194e-02, -1.01195691e+00,  5.92299329e-01],\n",
       "        [ 4.07831603e-01, -5.07531114e-01,  9.53170117e-01],\n",
       "        [ 3.62047656e-01, -6.63591541e-01,  3.13082286e-01],\n",
       "        [ 1.73009799e-01, -7.50468411e-01,  5.52322024e-01],\n",
       "        [ 2.00711383e-01, -6.44564864e-01,  2.97397288e-01],\n",
       "        [ 4.20388318e-01, -8.77098319e-01,  6.35365641e-01],\n",
       "        [ 3.06007885e-01, -4.29645240e-01,  7.20612088e-01],\n",
       "        [ 4.08896825e-01, -5.64244124e-01,  1.59672187e-01],\n",
       "        [ 5.30367377e-01, -7.67184192e-01,  2.60944795e-01],\n",
       "        [ 2.48560623e-01, -9.06311532e-01,  4.70873026e-01],\n",
       "        [-1.23605683e-02, -6.22007795e-01,  3.54844865e-01],\n",
       "        [ 3.91344724e-01, -4.72691171e-01,  4.85927610e-01],\n",
       "        [ 8.78835143e-01, -4.46936399e-01,  3.72749296e-01],\n",
       "        [ 9.55734236e-01, -9.52257241e-01,  5.17385234e-01],\n",
       "        [ 6.92246777e-01, -1.03235424e+00,  5.98458540e-01],\n",
       "        [ 6.24609335e-01, -5.16279448e-01,  7.13894338e-01],\n",
       "        [ 1.46620210e-01, -1.30189188e+00,  4.57318084e-01],\n",
       "        [ 7.72547103e-01, -1.11787793e+00,  4.26482100e-01],\n",
       "        [ 1.03293777e+00, -3.54160334e-01,  6.28501823e-01],\n",
       "        [ 3.30311658e-01, -8.67663047e-01,  6.79308347e-01],\n",
       "        [ 6.04346809e-01, -4.34683072e-01,  1.04361055e+00],\n",
       "        [ 1.28357737e-01, -9.53809197e-01,  4.00218847e-01],\n",
       "        [ 3.34737996e-01, -7.49183220e-01,  4.43443308e-01],\n",
       "        [ 1.30552002e-01, -8.33855663e-01,  4.71081597e-01],\n",
       "        [ 6.38615882e-01, -5.97445869e-01,  3.58049585e-01],\n",
       "        [ 1.43175648e-01, -7.28549749e-01,  6.26219677e-01],\n",
       "        [-1.05087768e-01, -5.03283149e-01,  7.65059003e-01],\n",
       "        [-4.60244815e-02, -1.14189925e+00,  6.21374116e-01],\n",
       "        [ 2.83583733e-01, -1.01437193e+00,  5.98935962e-01],\n",
       "        [ 6.12749180e-01, -6.21047152e-01,  5.08753302e-01],\n",
       "        [ 3.47463085e-01, -5.81424711e-01,  5.52564378e-01],\n",
       "        [ 9.72949323e-01, -3.07331861e-01,  7.79435409e-01],\n",
       "        [ 4.46108487e-01, -1.06091814e+00,  6.57400055e-01],\n",
       "        [-9.15966403e-02, -1.74806754e+00,  6.91385496e-01],\n",
       "        [ 8.97704593e-01, -6.80262290e-01,  1.13612544e+00],\n",
       "        [ 1.08538605e-01, -1.12697673e+00,  2.92689950e-01]]),\n",
       " (158, 3))"
      ]
     },
     "execution_count": 415,
     "metadata": {},
     "output_type": "execute_result"
    }
   ],
   "source": [
    "log_marker_values_down = np.random.multivariate_normal(\n",
    "    mean_down,\n",
    "    cov_down,\n",
    "    np.sum(is_down)\n",
    ")\n",
    "\n",
    "log_marker_values_down, log_marker_values_down.shape"
   ]
  },
  {
   "cell_type": "code",
   "execution_count": 416,
   "id": "0c01a75b-8bbf-4e6c-b9af-140c7a90cf67",
   "metadata": {},
   "outputs": [
    {
     "data": {
      "text/plain": [
       "(array([[-0.11497528,  0.28051598,  0.2491788 ],\n",
       "        [-0.32430664, -0.147406  , -0.18140637],\n",
       "        [-0.40573785,  0.66809531,  0.06793337],\n",
       "        ...,\n",
       "        [ 0.07578579,  0.03609642,  0.18519711],\n",
       "        [ 0.37674396, -0.09690599, -0.34386122],\n",
       "        [ 0.052934  ,  0.28484571, -0.09235188]]),\n",
       " (99842, 3))"
      ]
     },
     "execution_count": 416,
     "metadata": {},
     "output_type": "execute_result"
    }
   ],
   "source": [
    "log_marker_values_control = np.random.multivariate_normal(\n",
    "    mean_control,\n",
    "    cov_control,\n",
    "    np.sum(~is_down)\n",
    ")\n",
    "\n",
    "log_marker_values_control, log_marker_values_control.shape"
   ]
  },
  {
   "cell_type": "code",
   "execution_count": 417,
   "id": "6fd9d1f2-6b85-4b6a-abca-46ebca186ee3",
   "metadata": {},
   "outputs": [
    {
     "data": {
      "text/plain": [
       "(100000, 3)"
      ]
     },
     "execution_count": 417,
     "metadata": {},
     "output_type": "execute_result"
    }
   ],
   "source": [
    "log_marker_values = np.zeros((sample_size, len(marker_config.markers)))\n",
    "log_marker_values.shape"
   ]
  },
  {
   "cell_type": "code",
   "execution_count": 418,
   "id": "43b9ac4b-6d6b-40de-87d9-2f13d60e59ed",
   "metadata": {},
   "outputs": [],
   "source": [
    "log_marker_values[is_down] = log_marker_values_down\n",
    "log_marker_values[~is_down] = log_marker_values_control"
   ]
  },
  {
   "cell_type": "code",
   "execution_count": 419,
   "id": "3853e1b4-3eeb-4c48-b806-4cb9f924ae63",
   "metadata": {},
   "outputs": [
    {
     "data": {
      "text/plain": [
       "array([[-0.11497528,  0.28051598,  0.2491788 ],\n",
       "       [-0.32430664, -0.147406  , -0.18140637],\n",
       "       [-0.40573785,  0.66809531,  0.06793337],\n",
       "       ...,\n",
       "       [ 0.07578579,  0.03609642,  0.18519711],\n",
       "       [ 0.37674396, -0.09690599, -0.34386122],\n",
       "       [ 0.052934  ,  0.28484571, -0.09235188]])"
      ]
     },
     "execution_count": 419,
     "metadata": {},
     "output_type": "execute_result"
    }
   ],
   "source": [
    "log_marker_values"
   ]
  },
  {
   "cell_type": "code",
   "execution_count": 420,
   "id": "12a84074-89bf-499f-8c2b-9369a4c750fd",
   "metadata": {},
   "outputs": [
    {
     "data": {
      "text/plain": [
       "array([[0.89138818, 1.3238127 , 1.28297141],\n",
       "       [0.7230285 , 0.86294355, 0.83409634],\n",
       "       [0.66648486, 1.95051865, 1.07029399],\n",
       "       ...,\n",
       "       [1.07873148, 1.03675581, 1.20345563],\n",
       "       [1.45753108, 0.90764133, 0.70902732],\n",
       "       [1.05436005, 1.32955687, 0.91178426]])"
      ]
     },
     "execution_count": 420,
     "metadata": {},
     "output_type": "execute_result"
    }
   ],
   "source": [
    "marker_values = np.exp(log_marker_values)\n",
    "marker_values"
   ]
  },
  {
   "cell_type": "code",
   "execution_count": 421,
   "id": "1c66abcc-6070-4782-9e55-03681ef0f47d",
   "metadata": {},
   "outputs": [
    {
     "data": {
      "text/plain": [
       "<mpl_toolkits.mplot3d.art3d.Path3DCollection at 0x11c583290>"
      ]
     },
     "execution_count": 421,
     "metadata": {},
     "output_type": "execute_result"
    },
    {
     "data": {
      "image/png": "[encoded data removed]",
      "text/plain": [
       "<Figure size 640x480 with 1 Axes>"
      ]
     },
     "metadata": {},
     "output_type": "display_data"
    }
   ],
   "source": [
    "fig = plt.figure()\n",
    "ax = fig.add_subplot(111, projection='3d')\n",
    "\n",
    "ax.scatter(\n",
    "    marker_values[:,0], \n",
    "    marker_values[:,1],  \n",
    "    marker_values[:,2],\n",
    "    # maternal_age,\n",
    "    c=~is_down\n",
    ")"
   ]
  },
  {
   "cell_type": "code",
   "execution_count": 422,
   "id": "223cbea2-6c75-4087-b766-7231b59e5ad1",
   "metadata": {},
   "outputs": [],
   "source": [
    "import plotly.graph_objects as go\n",
    "import plotly.io as pio\n",
    "import numpy as np\n",
    "\n",
    "def create_interactive_plot(marker_values, maternal_age, is_down, marker_config, z_axis='maternal_age'):\n",
    "    # pio.renderers.default = \"browser\"\n",
    "\n",
    "    # Separate Down syndrome and control cases\n",
    "    down_indices = np.where(is_down)[0]\n",
    "    control_indices = np.where(~is_down)[0]\n",
    "\n",
    "    # Determine z-axis values\n",
    "    if z_axis == 'maternal_age':\n",
    "        z_values = maternal_age\n",
    "        z_axis_title = 'Maternal Age'\n",
    "    elif z_axis == 'NT':\n",
    "        z_values = marker_values[:, 2]\n",
    "        z_axis_title = marker_config.markers[2].name\n",
    "    else:\n",
    "        raise ValueError(\"z_axis must be either 'maternal_age' or 'NT'\")\n",
    "\n",
    "    # Create scatter plots for Down syndrome and control cases separately\n",
    "    scatter_down = go.Scatter3d(\n",
    "        x=marker_values[down_indices, 0],\n",
    "        y=marker_values[down_indices, 1],\n",
    "        z=z_values[down_indices],\n",
    "        mode='markers',\n",
    "        marker=dict(\n",
    "            size=5,\n",
    "            color='red',\n",
    "            symbol='diamond',\n",
    "        ),\n",
    "        name='Down Syndrome',\n",
    "        text=[f\"Age: {age:.1f}, {z_axis_title}: {z:.2f}, Down Syndrome: True\" \n",
    "              for age, z in zip(maternal_age[down_indices], z_values[down_indices])],\n",
    "        hoverinfo=\"text\"\n",
    "    )\n",
    "\n",
    "    scatter_control = go.Scatter3d(\n",
    "        x=marker_values[control_indices, 0],\n",
    "        y=marker_values[control_indices, 1],\n",
    "        z=z_values[control_indices],\n",
    "        mode='markers',\n",
    "        marker=dict(\n",
    "            size=3,\n",
    "            color='blue',\n",
    "            opacity=0.1,\n",
    "        ),\n",
    "        name='Control',\n",
    "        text=[f\"Age: {age:.1f}, {z_axis_title}: {z:.2f}, Down Syndrome: False\" \n",
    "              for age, z in zip(maternal_age[control_indices], z_values[control_indices])],\n",
    "        hoverinfo=\"text\"\n",
    "    )\n",
    "\n",
    "    # Create the layout\n",
    "    layout = go.Layout(\n",
    "        scene=dict(\n",
    "            xaxis_title=marker_config.markers[0].name,\n",
    "            yaxis_title=marker_config.markers[1].name,\n",
    "            zaxis_title=z_axis_title,\n",
    "        ),\n",
    "        title=\"Down Syndrome Screening Markers\",\n",
    "        width=900,\n",
    "        height=700,\n",
    "        legend=dict(\n",
    "            yanchor=\"top\",\n",
    "            y=0.99,\n",
    "            xanchor=\"left\",\n",
    "            x=0.01\n",
    "        )\n",
    "    )\n",
    "\n",
    "    # Create the figure and show it\n",
    "    fig = go.Figure(data=[scatter_control, scatter_down], layout=layout)\n",
    "\n",
    "    # Add sliders for marker cutoffs\n",
    "    for i, marker in enumerate([marker_config.markers[0].name, marker_config.markers[1].name]):\n",
    "        fig.update_layout(\n",
    "            sliders=[dict(\n",
    "                active=0,\n",
    "                currentvalue={\"prefix\": f\"{marker} Cutoff: \"},\n",
    "                pad={\"t\": 50},\n",
    "                steps=[dict(\n",
    "                    method='update',\n",
    "                    args=[{'visible': [True, True]},\n",
    "                          {'title': f'{marker} Cutoff: {cutoff:.2f}'}],\n",
    "                    label=str(cutoff)\n",
    "                ) for cutoff in np.linspace(0.5, 2, 20)]\n",
    "            )]\n",
    "        )\n",
    "\n",
    "    fig.show()"
   ]
  },
  {
   "cell_type": "code",
   "execution_count": 423,
   "id": "4ad61863-f907-4668-a6f5-6964f318fdf8",
   "metadata": {},
   "outputs": [],
   "source": [
    "create_interactive_plot(marker_values, maternal_age, is_down, marker_config, z_axis='maternal_age')"
   ]
  },
  {
   "cell_type": "code",
   "execution_count": 424,
   "id": "5d234e11-3c36-42e7-bd4b-ba450bcd7711",
   "metadata": {},
   "outputs": [],
   "source": [
    "# create_interactive_plot(marker_values, maternal_age, is_down, marker_config, z_axis='maternal_age')"
   ]
  }
 ],
 "metadata": {
  "kernelspec": {
   "display_name": "downs",
   "language": "python",
   "name": "downs"
  },
  "language_info": {
   "codemirror_mode": {
    "name": "ipython",
    "version": 3
   },
   "file_extension": ".py",
   "mimetype": "text/x-python",
   "name": "python",
   "nbconvert_exporter": "python",
   "pygments_lexer": "ipython3",
   "version": "3.12.4"
  }
 },
 "nbformat": 4,
 "nbformat_minor": 5
}
