{
 "cells": [
  {
   "cell_type": "markdown",
   "id": "cfabd6c5-567e-47a5-8d87-4292d0274e50",
   "metadata": {},
   "source": [
    "# Modeling the Probability Distribution"
   ]
  },
  {
   "cell_type": "code",
   "execution_count": 258,
   "id": "2fa2f3c7-6160-45c7-988c-3c44b5e7ef25",
   "metadata": {},
   "outputs": [],
   "source": [
    "import math\n",
    "import numpy as np\n",
    "from dataclasses import dataclass, field\n",
    "from typing import List, Tuple\n",
    "from pprint import pprint\n",
    "import matplotlib.pyplot as plt"
   ]
  },
  {
   "cell_type": "code",
   "execution_count": 186,
   "id": "3a4d63e4-b111-42f6-a3f4-a5fd68291873",
   "metadata": {},
   "outputs": [],
   "source": [
    "@dataclass\n",
    "class Marker:\n",
    "    name: str\n",
    "    median_mom_down: float\n",
    "    median_mom_control: float\n",
    "    log_sd_down: float = 0.0 # log of the sd of the marker in Down Syndrome cases\n",
    "    log_sd_control: float = 0.0 # log of the sd of the marker in Control cases"
   ]
  },
  {
   "cell_type": "code",
   "execution_count": 189,
   "id": "bc8cba81-d2b5-470d-9cf1-78b13b6dcc62",
   "metadata": {},
   "outputs": [],
   "source": [
    "@dataclass\n",
    "class PopulationConfig:\n",
    "    \"\"\"\n",
    "    Maternal Age is Normally distributed.\n",
    "    \"\"\"\n",
    "    maternal_age_mean: float = 27.0 # Mean maternal age in years\n",
    "    maternal_age_sd: float = 5.5 # SD of maternal age in years\n",
    "\n",
    "    down_syndrome_prevalence: float = 1/700 # Prevalence of Down syndrome in the population\n",
    "\n",
    "@dataclass\n",
    "class MarkersConfig:\n",
    "    \"\"\"\n",
    "    Config for the various markers being analysed\n",
    "    \"\"\"\n",
    "    markers: list[Marker] = field(default_factory=list)\n",
    "    \n",
    "    correlation_matrix_down: np.ndarray = field(default_factory=lambda: np.eye(1)) # Correlatiuon matrix for Down syndrome cases\n",
    "    correlation_matrix_control: np.ndarray = field(default_factory=lambda: np.eye(1)) # Correlation matrix for control cases\n",
    "\n",
    "    def __post_init__(self):\n",
    "        self.markers = [\n",
    "            Marker(name=\"Free B-hCG\", median_mom_down=1.70, median_mom_control=1.01, log_sd_down=0.28, log_sd_control=0.27),\n",
    "            Marker(name=\"PAPP-A\", median_mom_down=0.49, median_mom_control=1.00, log_sd_down=0.31, log_sd_control=0.25),\n",
    "            Marker(name=\"NT\", median_mom_down=1.74, median_mom_control=1.01, log_sd_down=0.23, log_sd_control=0.13),\n",
    "        ]\n",
    "\n",
    "        markers_count = len(self.markers)\n",
    "        self.correlation_matrix_down = self.correlation_matrix_control = np.eye(markers_count)"
   ]
  },
  {
   "cell_type": "code",
   "execution_count": 219,
   "id": "16fbced6-668f-4328-a99a-11510175860c",
   "metadata": {},
   "outputs": [
    {
     "name": "stdout",
     "output_type": "stream",
     "text": [
      "PopulationConfig(maternal_age_mean=27.0,\n",
      "                 maternal_age_sd=5.5,\n",
      "                 down_syndrome_prevalence=0.0014285714285714286)\n",
      "MarkersConfig(markers=[Marker(name='Free B-hCG',\n",
      "                              median_mom_down=1.7,\n",
      "                              median_mom_control=1.01,\n",
      "                              log_sd_down=0.28,\n",
      "                              log_sd_control=0.27),\n",
      "                       Marker(name='PAPP-A',\n",
      "                              median_mom_down=0.49,\n",
      "                              median_mom_control=1.0,\n",
      "                              log_sd_down=0.31,\n",
      "                              log_sd_control=0.25),\n",
      "                       Marker(name='NT',\n",
      "                              median_mom_down=1.74,\n",
      "                              median_mom_control=1.01,\n",
      "                              log_sd_down=0.23,\n",
      "                              log_sd_control=0.13)],\n",
      "              correlation_matrix_down=array([[1., 0., 0.],\n",
      "       [0., 1., 0.],\n",
      "       [0., 0., 1.]]),\n",
      "              correlation_matrix_control=array([[1., 0., 0.],\n",
      "       [0., 1., 0.],\n",
      "       [0., 0., 1.]]))\n"
     ]
    }
   ],
   "source": [
    "pop_config = PopulationConfig(\n",
    "    maternal_age_mean = 27.0,\n",
    "    maternal_age_sd = 5.5\n",
    ")\n",
    "\n",
    "marker_config = MarkersConfig()\n",
    "\n",
    "pprint(pop_config)\n",
    "pprint(marker_config)"
   ]
  },
  {
   "cell_type": "code",
   "execution_count": 220,
   "id": "95f51ba5-9e5d-4cf5-b39f-28a060fc59d0",
   "metadata": {},
   "outputs": [
    {
     "data": {
      "text/plain": [
       "array([[1., 0., 0.],\n",
       "       [0., 1., 0.],\n",
       "       [0., 0., 1.]])"
      ]
     },
     "execution_count": 220,
     "metadata": {},
     "output_type": "execute_result"
    }
   ],
   "source": [
    "config.correlation_matrix_control"
   ]
  },
  {
   "cell_type": "code",
   "execution_count": 221,
   "id": "601425dd-1033-4eb9-90bd-c56249bc582c",
   "metadata": {},
   "outputs": [
    {
     "name": "stdout",
     "output_type": "stream",
     "text": [
      "0.00153\n"
     ]
    }
   ],
   "source": [
    "sample_size: int = 100_000\n",
    "\n",
    "is_down = np.random.random(sample_size) < pop_config.down_syndrome_prevalence\n",
    "\n",
    "sampled_prevalence = (np.sum(is_down) / sample_size)\n",
    "print(sampled_prevalence)\n",
    "\n",
    "assert np.allclose(sampled_prevalence, pop_config.down_syndrome_prevalence, atol=1/2000), \"Sampled prevalence should be similar to expected prevalence\""
   ]
  },
  {
   "cell_type": "code",
   "execution_count": 222,
   "id": "68e87514-5afc-4945-826b-e708f19837d7",
   "metadata": {
    "scrolled": true
   },
   "outputs": [
    {
     "data": {
      "text/plain": [
       "(0.09, 0.19)"
      ]
     },
     "execution_count": 222,
     "metadata": {},
     "output_type": "execute_result"
    }
   ],
   "source": [
    "min_max = lambda v, tol: ((v - tol) * 100, (v + tol) * 100)\n",
    "\n",
    "min_max(0.0014, 1/2000)"
   ]
  },
  {
   "cell_type": "markdown",
   "id": "ab1e11fd-d92d-43e7-9b80-e5bf3c10cebc",
   "metadata": {},
   "source": [
    "Let X be a random variable with a log normal distribution  $N(\\mu_X, \\sigma^2_X$). Then the $ln(X)$ has the mean $\\mu$ and variance $\\sigma^2$.\n",
    "\n",
    "$$\n",
    "\\begin{align}\n",
    "\\mu &= ln({\\frac{\\mu^2_X}{\\sqrt{\\mu^2_X + \\sigma^2_X}}}) \\\\\n",
    "\\sigma^2 &= ln(1 + \\frac{\\sigma^2_X}{\\mu^2_X})\n",
    "\\end{align}\n",
    "$$"
   ]
  },
  {
   "cell_type": "code",
   "execution_count": 342,
   "id": "0d556e20-bb48-42c1-a049-577e6ea1c911",
   "metadata": {},
   "outputs": [
    {
     "name": "stdout",
     "output_type": "stream",
     "text": [
      "3.275508180045729 0.20163673255932293\n"
     ]
    },
    {
     "data": {
      "text/plain": [
       "array([3.14818827, 3.57078135, 3.20687422, ..., 3.25878266, 3.48038387,\n",
       "       3.11228057])"
      ]
     },
     "execution_count": 342,
     "metadata": {},
     "output_type": "execute_result"
    }
   ],
   "source": [
    "mu = np.log(pop_config.maternal_age_mean**2 / (np.sqrt(pop_config.maternal_age_mean**2 + pop_config.maternal_age_sd**2)))\n",
    "sig2 = np.log(1 + (pop_config.maternal_age_sd ** 2 / pop_config.maternal_age_mean ** 2))\n",
    "sig = np.sqrt(sig2)\n",
    "\n",
    "log_maternal_ages = np.random.normal(\n",
    "    mu,\n",
    "    sig,\n",
    "    sample_size\n",
    ")\n",
    "\n",
    "print(\n",
    "    mu, sig\n",
    ")\n",
    "\n",
    "log_maternal_ages"
   ]
  },
  {
   "cell_type": "code",
   "execution_count": 343,
   "id": "007481a0-4969-4170-abff-bd020ddfc1c4",
   "metadata": {},
   "outputs": [],
   "source": [
    "def summary_stats(data: np.ndarray):\n",
    "    print(f\"X ~ N(μ, σ^2): N({np.mean(data):.4f}, {np.std(data)**2:.4f})\")\n",
    "    print(f\"Range: {np.min(data):.4f} ≤ X ≤ {np.max(data):.4f}\")\n",
    "\n",
    "    print(f\"median (M): {np.median(data):.4f}\\n\")"
   ]
  },
  {
   "cell_type": "code",
   "execution_count": 344,
   "id": "aa9b4505-4d2a-48e0-a874-08049f444962",
   "metadata": {},
   "outputs": [
    {
     "data": {
      "text/plain": [
       "(array([2.000e+00, 6.000e+00, 4.900e+01, 1.540e+02, 3.590e+02, 7.380e+02,\n",
       "        1.434e+03, 2.421e+03, 3.557e+03, 4.644e+03, 5.943e+03, 6.863e+03,\n",
       "        7.554e+03, 8.049e+03, 8.068e+03, 7.795e+03, 7.109e+03, 6.461e+03,\n",
       "        5.572e+03, 4.874e+03, 3.938e+03, 3.246e+03, 2.631e+03, 2.119e+03,\n",
       "        1.696e+03, 1.172e+03, 9.860e+02, 6.600e+02, 5.220e+02, 3.990e+02,\n",
       "        2.480e+02, 2.120e+02, 1.630e+02, 9.900e+01, 8.100e+01, 5.000e+01,\n",
       "        3.500e+01, 1.900e+01, 2.800e+01, 1.400e+01, 1.200e+01, 7.000e+00,\n",
       "        5.000e+00, 0.000e+00, 1.000e+00, 2.000e+00, 0.000e+00, 1.000e+00,\n",
       "        1.000e+00, 1.000e+00]),\n",
       " array([10.64419921, 11.69928302, 12.75436684, 13.80945065, 14.86453446,\n",
       "        15.91961827, 16.97470209, 18.0297859 , 19.08486971, 20.13995353,\n",
       "        21.19503734, 22.25012115, 23.30520496, 24.36028878, 25.41537259,\n",
       "        26.4704564 , 27.52554022, 28.58062403, 29.63570784, 30.69079165,\n",
       "        31.74587547, 32.80095928, 33.85604309, 34.9111269 , 35.96621072,\n",
       "        37.02129453, 38.07637834, 39.13146216, 40.18654597, 41.24162978,\n",
       "        42.29671359, 43.35179741, 44.40688122, 45.46196503, 46.51704885,\n",
       "        47.57213266, 48.62721647, 49.68230028, 50.7373841 , 51.79246791,\n",
       "        52.84755172, 53.90263553, 54.95771935, 56.01280316, 57.06788697,\n",
       "        58.12297079, 59.1780546 , 60.23313841, 61.28822222, 62.34330604,\n",
       "        63.39838985]),\n",
       " <BarContainer object of 50 artists>)"
      ]
     },
     "execution_count": 344,
     "metadata": {},
     "output_type": "execute_result"
    },
    {
     "data": {
      "image/png": "[encoded data removed]",
      "text/plain": [
       "<Figure size 640x480 with 1 Axes>"
      ]
     },
     "metadata": {},
     "output_type": "display_data"
    }
   ],
   "source": [
    "maternal_age = np.exp(log_maternal_ages)\n",
    "plt.hist(maternal_age, bins=50)"
   ]
  },
  {
   "cell_type": "code",
   "execution_count": 345,
   "id": "d2d1b270-a820-4d88-87b6-0416eda4be79",
   "metadata": {},
   "outputs": [
    {
     "name": "stdout",
     "output_type": "stream",
     "text": [
      "X ~ N(μ, σ^2): N(3.2767, 0.0404)\n",
      "Range: 2.3650 ≤ X ≤ 4.1494\n",
      "median (M): 3.2767\n",
      "\n",
      "X ~ N(μ, σ^2): N(27.0294, 30.0849)\n",
      "Range: 10.6442 ≤ X ≤ 63.3984\n",
      "median (M): 26.4894\n",
      "\n"
     ]
    }
   ],
   "source": [
    "summary_stats(log_maternal_ages)\n",
    "summary_stats(np.exp(log_maternal_ages))"
   ]
  },
  {
   "cell_type": "markdown",
   "id": "88bc4a69-37b0-4827-8cde-7d19e5e9b234",
   "metadata": {},
   "source": [
    "$$\n",
    "Y = ln(X), Y \\sim N(\\mu, \\sigma)\n",
    "$$"
   ]
  },
  {
   "cell_type": "markdown",
   "id": "8c6fa750-1228-4a2f-9925-dde548cda39d",
   "metadata": {},
   "source": [
    "$$\n",
    "M = e^\\mu\n",
    "=> ln(M) = \\mu\n",
    "$$"
   ]
  },
  {
   "cell_type": "code",
   "execution_count": 319,
   "id": "0f543dab-43ef-49f0-be78-45cc8ba610a1",
   "metadata": {},
   "outputs": [
    {
     "data": {
      "text/plain": [
       "(array([ 0.53062825, -0.71334989,  0.55388511]),\n",
       " array([0.00995033, 0.        , 0.00995033]))"
      ]
     },
     "execution_count": 319,
     "metadata": {},
     "output_type": "execute_result"
    }
   ],
   "source": [
    "mean_down = np.log([m.median_mom_down for m in marker_config.markers])\n",
    "mean_control = np.log([m.median_mom_control for m in marker_config.markers])\n",
    "\n",
    "mean_down, mean_control"
   ]
  },
  {
   "cell_type": "markdown",
   "id": "36d2a61c-54c0-45cf-9f34-cba05e8020a4",
   "metadata": {},
   "source": [
    "## Covariance Matrices and Multivariate Distribution"
   ]
  },
  {
   "cell_type": "markdown",
   "id": "79cd39c9-4ec5-4364-8829-f6d1cc9005d9",
   "metadata": {},
   "source": [
    "Assuming that $X_i$ for all $i=0...n$ are independent random variables, the $Cov(X_i, Y_j) = 0$ and hence we get the following diagnol form containing only the variances.\n",
    "\n",
    "$$\n",
    "Cov(X, X) = Var(X) = \\begin{bmatrix}\n",
    "Var(X_1) & 0 & 0\\\\\n",
    "0 & Var(X_2) & 0\\\\\n",
    "0 & 0 & Var(X_3)\n",
    "\\end{bmatrix}\n",
    "$$\n",
    "\n",
    "The covariance matrix is a diagonal matrix containing only the variances of each of the markers."
   ]
  },
  {
   "cell_type": "code",
   "execution_count": 359,
   "id": "da497634-e7b9-4fe1-9dfb-9e18b58323cb",
   "metadata": {},
   "outputs": [
    {
     "data": {
      "text/plain": [
       "(array([[0.0784, 0.    , 0.    ],\n",
       "        [0.    , 0.0961, 0.    ],\n",
       "        [0.    , 0.    , 0.0529]]),\n",
       " array([[0.0729, 0.    , 0.    ],\n",
       "        [0.    , 0.0625, 0.    ],\n",
       "        [0.    , 0.    , 0.0169]]))"
      ]
     },
     "execution_count": 359,
     "metadata": {},
     "output_type": "execute_result"
    }
   ],
   "source": [
    "cov_down = np.diag([m.log_sd_down**2 for m in marker_config.markers])\n",
    "cov_control = np.diag([m.log_sd_control**2 for m in marker_config.markers])\n",
    "\n",
    "cov_down, cov_control"
   ]
  },
  {
   "cell_type": "code",
   "execution_count": 360,
   "id": "cf1d8945-0c83-4381-a1f3-2d477bccff04",
   "metadata": {},
   "outputs": [],
   "source": [
    "correlation_matrix_down = np.array(\n",
    "    [[1., 0.191, 0.],\n",
    "     [0.191, 1., 0.],\n",
    "     [0., 0., 1.]]\n",
    ")"
   ]
  },
  {
   "cell_type": "code",
   "execution_count": 361,
   "id": "af720a08-2e92-4730-8da3-795c2eca9e12",
   "metadata": {},
   "outputs": [],
   "source": [
    "correlation_matrix_control = np.array(\n",
    "    [[1., 0.186, 0.],\n",
    "     [0.186, 1., 0.],\n",
    "     [0., 0., 1.]]\n",
    ")"
   ]
  },
  {
   "cell_type": "code",
   "execution_count": 362,
   "id": "7d3d06f8-1e5e-4fe8-9d13-e5d11b70e549",
   "metadata": {},
   "outputs": [
    {
     "data": {
      "text/plain": [
       "((3, 3), (3, 3))"
      ]
     },
     "execution_count": 362,
     "metadata": {},
     "output_type": "execute_result"
    }
   ],
   "source": [
    "cov_down.shape, correlation_matrix_down.shape"
   ]
  },
  {
   "cell_type": "code",
   "execution_count": 363,
   "id": "44247ecd-5258-4436-8626-026fc23eed11",
   "metadata": {},
   "outputs": [
    {
     "data": {
      "text/plain": [
       "array([[0.0784   , 0.0165788, 0.       ],\n",
       "       [0.0165788, 0.0961   , 0.       ],\n",
       "       [0.       , 0.       , 0.0529   ]])"
      ]
     },
     "execution_count": 363,
     "metadata": {},
     "output_type": "execute_result"
    }
   ],
   "source": [
    "cov_down = np.sqrt(cov_down) @ correlation_matrix_down @ np.sqrt(cov_down)\n",
    "cov_down"
   ]
  },
  {
   "cell_type": "code",
   "execution_count": 364,
   "id": "28a70ffb-360c-41b2-b680-0a56be1c5c8f",
   "metadata": {},
   "outputs": [
    {
     "data": {
      "text/plain": [
       "array([[0.0729  , 0.012555, 0.      ],\n",
       "       [0.012555, 0.0625  , 0.      ],\n",
       "       [0.      , 0.      , 0.0169  ]])"
      ]
     },
     "execution_count": 364,
     "metadata": {},
     "output_type": "execute_result"
    }
   ],
   "source": [
    "cov_control = np.sqrt(cov_control) @ correlation_matrix_control @ np.sqrt(cov_control)\n",
    "cov_control"
   ]
  },
  {
   "cell_type": "code",
   "execution_count": 365,
   "id": "78b89ffe-f00d-4b59-954d-a19a3f482b58",
   "metadata": {},
   "outputs": [
    {
     "data": {
      "text/plain": [
       "(array([[ 0.11493344, -0.20859942,  0.69852901],\n",
       "        [ 0.12108628, -0.6533134 ,  0.17228454],\n",
       "        [ 0.6683498 , -0.52857136,  0.70239994],\n",
       "        [ 0.86571316, -0.41545867,  0.35282775],\n",
       "        [ 0.56822223, -0.22578447,  0.61392708],\n",
       "        [ 0.16284015, -1.03639019,  0.54176378],\n",
       "        [ 0.11806046, -0.4693144 ,  0.72141462],\n",
       "        [ 0.34300039, -0.55932966,  0.39258563],\n",
       "        [ 0.68759385, -0.18330389,  0.58966838],\n",
       "        [ 0.53617983, -0.6690769 ,  0.61864987],\n",
       "        [ 0.39308291, -1.07793593,  0.27351692],\n",
       "        [ 0.51946848, -1.01165788,  0.57031212],\n",
       "        [ 0.680714  , -0.37174325,  0.79869771],\n",
       "        [ 0.7535424 , -0.99772618,  0.38543891],\n",
       "        [ 0.52148114, -0.69184814,  0.41028417],\n",
       "        [-0.1391413 , -0.62240247,  0.09112201],\n",
       "        [ 0.48862767, -0.88517884,  0.66962404],\n",
       "        [ 0.42241369, -0.63857827,  0.57488994],\n",
       "        [ 0.54003357, -1.10784878,  0.81923421],\n",
       "        [ 0.40029961, -0.94391932,  0.25349216],\n",
       "        [ 0.57756953, -1.42114919,  0.64986053],\n",
       "        [ 0.56482732, -1.26167809,  0.41531419],\n",
       "        [ 0.61727079, -0.58609221,  0.25567686],\n",
       "        [ 0.92963612, -0.96164917,  0.55081777],\n",
       "        [ 1.04453534, -0.32754898,  0.93386966],\n",
       "        [ 0.55642763, -0.56884606,  0.57047581],\n",
       "        [ 0.58404696, -0.33973416,  0.932265  ],\n",
       "        [ 0.43649809, -0.32560567,  0.50835541],\n",
       "        [ 0.58721459, -0.73915247,  0.38253018],\n",
       "        [ 0.87707837, -0.68418318,  0.98892924],\n",
       "        [ 0.76559849, -0.70523285,  0.4197138 ],\n",
       "        [ 0.23975134, -0.83771911,  0.09938787],\n",
       "        [ 0.42701804, -1.33109082,  0.39280834],\n",
       "        [ 0.0225133 , -1.18095063,  0.99796645],\n",
       "        [ 0.38200761, -0.91492645,  0.66809388],\n",
       "        [ 0.74988696, -0.7358926 ,  0.1229998 ],\n",
       "        [ 0.19089126, -1.30087593,  0.44293301],\n",
       "        [ 0.98921646, -0.13496021,  0.90074409],\n",
       "        [ 0.33408153, -0.41976207,  0.50262359],\n",
       "        [ 0.77394918, -0.40163506,  0.37399127],\n",
       "        [ 0.08678788, -1.18905159,  0.59341189],\n",
       "        [ 0.89451945, -0.62489845,  0.82337132],\n",
       "        [ 0.41116527, -1.33284498,  0.30354871],\n",
       "        [ 0.47781024, -0.42681356,  0.28411298],\n",
       "        [ 0.56384211, -0.55853682,  0.67418547],\n",
       "        [ 0.30458721, -0.72537169,  0.60277325],\n",
       "        [ 0.44796122, -0.36786209,  0.94052858],\n",
       "        [ 0.45902043, -0.39358913,  0.89857222],\n",
       "        [ 0.74806236, -0.27751729,  0.39859328],\n",
       "        [ 0.29083172, -0.8922962 ,  0.4105765 ],\n",
       "        [ 0.46099948, -0.4819084 ,  0.42299957],\n",
       "        [ 0.44261015, -0.55700061,  0.88937145],\n",
       "        [ 0.44449547, -0.30514006,  0.18285955],\n",
       "        [ 0.41158294, -0.76752701,  0.71239546],\n",
       "        [ 0.8148118 , -0.69399385,  0.64319181],\n",
       "        [ 0.68127852, -0.54777874,  0.91556975],\n",
       "        [ 0.68985716, -0.47873022,  0.94569844],\n",
       "        [ 0.6852494 , -0.68861809,  0.49079216],\n",
       "        [ 1.05091759, -0.18314943,  0.48944748],\n",
       "        [ 0.14350617, -1.03371467,  0.86918882],\n",
       "        [ 0.41808667, -0.9738626 ,  0.4805211 ],\n",
       "        [ 0.71413908, -0.83696995,  0.43564454],\n",
       "        [ 0.95251906, -1.18222889,  0.64343655],\n",
       "        [ 0.61017239, -0.48555404,  0.53707659],\n",
       "        [ 0.67207315, -0.73290137,  1.03444448],\n",
       "        [ 0.51853458, -0.44177619,  0.55647114],\n",
       "        [ 0.01432784, -0.71525558,  0.5136223 ],\n",
       "        [ 0.60803971, -0.97287898,  0.60721737],\n",
       "        [ 0.78723635, -0.50420133,  0.57067851],\n",
       "        [ 0.61345686, -0.24598206,  1.12728513],\n",
       "        [ 0.53758412, -1.09939331,  0.45385677],\n",
       "        [ 0.33144511, -0.6949179 ,  0.62529027],\n",
       "        [-0.10996936, -0.95452902,  0.73391089],\n",
       "        [ 0.2981262 , -0.53880506,  0.32288134],\n",
       "        [ 0.54673365, -0.44054879,  0.31930117],\n",
       "        [ 0.48973239, -0.54589076,  0.6373008 ],\n",
       "        [ 0.66143259, -0.74415605,  0.69684755],\n",
       "        [-0.08534622, -1.05531095,  0.55040215],\n",
       "        [ 0.07554473, -1.4864257 ,  0.78111644],\n",
       "        [ 0.47556813, -1.25859084,  0.55949693],\n",
       "        [ 1.02262028, -0.39662967,  0.56481584],\n",
       "        [ 0.69504525, -1.01611721,  0.3918692 ],\n",
       "        [ 0.41945588, -0.74733831,  0.72668259],\n",
       "        [ 1.22092342, -0.09329539,  0.52582654],\n",
       "        [ 0.50102977, -0.74288652,  0.31273209],\n",
       "        [ 0.58527047, -0.83800774,  0.58425692],\n",
       "        [ 0.00913463, -1.00366536,  0.55121902],\n",
       "        [ 0.30405427, -0.77326513,  0.57908954],\n",
       "        [ 0.82021328, -1.04438272,  0.51449263],\n",
       "        [ 0.71517632, -0.87996369,  0.76648825],\n",
       "        [ 0.35884272, -0.80423353,  0.38780943],\n",
       "        [ 0.3079663 , -0.24626751,  0.83632471],\n",
       "        [ 0.78027085, -0.51966038,  0.62124222],\n",
       "        [ 0.71122218, -0.68511949,  0.7783483 ],\n",
       "        [ 0.65313013, -0.28236386,  0.55210436],\n",
       "        [ 0.74095524, -0.89720234,  0.29632518],\n",
       "        [ 0.73195129, -0.91243733,  0.75169912],\n",
       "        [ 0.40404146, -0.65880874,  0.52204702],\n",
       "        [ 0.51910254, -0.61423444,  0.35579953],\n",
       "        [ 0.55318287, -0.74479314,  0.40113711],\n",
       "        [ 0.79133822, -0.40715588,  0.545542  ],\n",
       "        [ 0.33975825, -0.66185177,  0.33769087],\n",
       "        [ 0.37695822, -1.0138175 ,  0.84021749],\n",
       "        [ 0.89866685, -0.22811667,  0.50045367],\n",
       "        [ 0.21492785, -0.45307287,  0.5199752 ],\n",
       "        [ 0.58209098, -0.59931896,  0.62597161],\n",
       "        [ 0.72024828, -0.73586888,  0.44199394],\n",
       "        [ 0.73906642, -0.59439604,  0.33991182],\n",
       "        [-0.03651235, -0.84568083,  0.65429805],\n",
       "        [ 0.73831175, -0.88087225,  0.57255128],\n",
       "        [ 0.69324435, -0.80213865,  0.58311813],\n",
       "        [ 0.06524489, -0.56219194,  0.41224467],\n",
       "        [ 0.87210147, -0.7419823 ,  0.94698388],\n",
       "        [ 0.35609007, -0.59235906,  0.25121306],\n",
       "        [ 0.37283541, -1.17863193,  0.40842128],\n",
       "        [ 0.27720938, -0.44963275,  0.55950291],\n",
       "        [ 0.93254037, -0.8159036 ,  0.28310303],\n",
       "        [ 0.46540926, -0.66956252,  0.87524504],\n",
       "        [ 0.64350743, -1.13330843,  0.64490593],\n",
       "        [ 0.16055923, -0.86439343,  0.19642213],\n",
       "        [ 0.31279713, -0.99307633,  0.10546351],\n",
       "        [-0.17443372, -1.25743764,  0.73951251],\n",
       "        [ 0.28190121, -0.92329913,  0.55623717],\n",
       "        [ 0.7623829 , -0.41075465,  0.49705077],\n",
       "        [ 0.26396864, -0.57159054,  0.47819558],\n",
       "        [ 0.76496608, -0.50890824,  0.10638769],\n",
       "        [ 0.41850014, -0.90373055,  0.40230964],\n",
       "        [ 0.56768951, -0.64692118,  0.61611332],\n",
       "        [ 0.36505816, -0.99475656,  0.75450307],\n",
       "        [ 0.58809132, -1.20077165,  0.57352926],\n",
       "        [ 0.57997549, -0.39025151,  0.9102961 ],\n",
       "        [ 0.51487903, -1.02598566,  0.6919756 ],\n",
       "        [ 0.44622868, -0.84843099,  0.712805  ],\n",
       "        [-0.00259471, -0.72242752,  0.86101164],\n",
       "        [ 1.07237006, -0.50667459,  0.45476873],\n",
       "        [ 0.68206306, -0.23820301,  0.84817905],\n",
       "        [ 0.85174728, -0.69143825,  0.35840249],\n",
       "        [ 0.69016234, -0.67557569,  0.45270962],\n",
       "        [ 0.63898173, -0.19904426,  1.03646668],\n",
       "        [ 0.13595797, -1.0228326 ,  0.24058114],\n",
       "        [ 1.06362701, -0.01216875,  0.6876475 ],\n",
       "        [ 1.07152781, -0.64368132,  0.22157441],\n",
       "        [ 0.37336931, -0.49508889,  0.58738684],\n",
       "        [ 0.48072793, -0.70844629,  0.38174051],\n",
       "        [ 0.6780483 , -0.48368239,  0.75535811],\n",
       "        [ 0.53801366, -0.84165273,  0.4588055 ],\n",
       "        [ 0.17929432, -1.28763852,  0.68245771],\n",
       "        [ 0.47614492, -0.89817657,  0.50977217],\n",
       "        [ 0.84472974, -0.86375815,  0.63446135],\n",
       "        [ 0.22567292, -0.82675855,  0.7107267 ],\n",
       "        [ 0.63285009, -0.95755382,  0.65067498],\n",
       "        [ 0.74666347, -0.53031446,  0.18321238],\n",
       "        [ 0.37301785, -0.54707904,  0.31001904]]),\n",
       " (153, 3))"
      ]
     },
     "execution_count": 365,
     "metadata": {},
     "output_type": "execute_result"
    }
   ],
   "source": [
    "log_marker_values_down = np.random.multivariate_normal(\n",
    "    mean_down,\n",
    "    cov_down,\n",
    "    np.sum(is_down)\n",
    ")\n",
    "\n",
    "log_marker_values_down, log_marker_values_down.shape"
   ]
  },
  {
   "cell_type": "code",
   "execution_count": 366,
   "id": "0c01a75b-8bbf-4e6c-b9af-140c7a90cf67",
   "metadata": {},
   "outputs": [
    {
     "data": {
      "text/plain": [
       "(array([[-0.22855616, -0.37384354, -0.07730509],\n",
       "        [-0.03682961,  0.08250039, -0.143165  ],\n",
       "        [-0.03581613, -0.2645937 ,  0.1535762 ],\n",
       "        ...,\n",
       "        [-0.04897406,  0.52105545,  0.28247605],\n",
       "        [ 0.54078391, -0.22388616,  0.04563288],\n",
       "        [-0.56830697,  0.38610342,  0.38581095]]),\n",
       " (99847, 3))"
      ]
     },
     "execution_count": 366,
     "metadata": {},
     "output_type": "execute_result"
    }
   ],
   "source": [
    "log_marker_values_control = np.random.multivariate_normal(\n",
    "    mean_control,\n",
    "    cov_control,\n",
    "    np.sum(~is_down)\n",
    ")\n",
    "\n",
    "log_marker_values_control, log_marker_values_control.shape"
   ]
  },
  {
   "cell_type": "code",
   "execution_count": 367,
   "id": "6fd9d1f2-6b85-4b6a-abca-46ebca186ee3",
   "metadata": {},
   "outputs": [
    {
     "data": {
      "text/plain": [
       "(100000, 3)"
      ]
     },
     "execution_count": 367,
     "metadata": {},
     "output_type": "execute_result"
    }
   ],
   "source": [
    "log_marker_values = np.zeros((sample_size, len(marker_config.markers)))\n",
    "log_marker_values.shape"
   ]
  },
  {
   "cell_type": "code",
   "execution_count": 368,
   "id": "43b9ac4b-6d6b-40de-87d9-2f13d60e59ed",
   "metadata": {},
   "outputs": [],
   "source": [
    "log_marker_values[is_down] = log_marker_values_down\n",
    "log_marker_values[~is_down] = log_marker_values_control"
   ]
  },
  {
   "cell_type": "code",
   "execution_count": 369,
   "id": "3853e1b4-3eeb-4c48-b806-4cb9f924ae63",
   "metadata": {},
   "outputs": [
    {
     "data": {
      "text/plain": [
       "array([[-0.22855616, -0.37384354, -0.07730509],\n",
       "       [-0.03682961,  0.08250039, -0.143165  ],\n",
       "       [-0.03581613, -0.2645937 ,  0.1535762 ],\n",
       "       ...,\n",
       "       [-0.04897406,  0.52105545,  0.28247605],\n",
       "       [ 0.54078391, -0.22388616,  0.04563288],\n",
       "       [-0.56830697,  0.38610342,  0.38581095]])"
      ]
     },
     "execution_count": 369,
     "metadata": {},
     "output_type": "execute_result"
    }
   ],
   "source": [
    "log_marker_values"
   ]
  },
  {
   "cell_type": "code",
   "execution_count": 370,
   "id": "12a84074-89bf-499f-8c2b-9369a4c750fd",
   "metadata": {},
   "outputs": [
    {
     "data": {
      "text/plain": [
       "array([[0.79568161, 0.68808456, 0.92560742],\n",
       "       [0.96384035, 1.0859991 , 0.86661107],\n",
       "       [0.96481768, 0.76751773, 1.16599663],\n",
       "       ...,\n",
       "       [0.95220583, 1.68380389, 1.32641001],\n",
       "       [1.71735259, 0.79940613, 1.04669008],\n",
       "       [0.5664837 , 1.47123682, 1.47080658]])"
      ]
     },
     "execution_count": 370,
     "metadata": {},
     "output_type": "execute_result"
    }
   ],
   "source": [
    "marker_values = np.exp(log_marker_values)\n",
    "marker_values"
   ]
  },
  {
   "cell_type": "code",
   "execution_count": 374,
   "id": "1c66abcc-6070-4782-9e55-03681ef0f47d",
   "metadata": {},
   "outputs": [
    {
     "data": {
      "text/plain": [
       "<mpl_toolkits.mplot3d.art3d.Path3DCollection at 0x11b0d4050>"
      ]
     },
     "execution_count": 374,
     "metadata": {},
     "output_type": "execute_result"
    },
    {
     "data": {
      "image/png": "[encoded data removed]",
      "text/plain": [
       "<Figure size 640x480 with 1 Axes>"
      ]
     },
     "metadata": {},
     "output_type": "display_data"
    }
   ],
   "source": [
    "fig = plt.figure()\n",
    "ax = fig.add_subplot(111, projection='3d')\n",
    "\n",
    "ax.scatter(\n",
    "    marker_values[:,0], \n",
    "    marker_values[:,1],  \n",
    "    marker_values[:,2],\n",
    "    # maternal_age,\n",
    "    c=~is_down\n",
    ")"
   ]
  },
  {
   "cell_type": "code",
   "execution_count": 395,
   "id": "223cbea2-6c75-4087-b766-7231b59e5ad1",
   "metadata": {},
   "outputs": [],
   "source": [
    "import plotly.graph_objects as go\n",
    "import plotly.io as pio\n",
    "import numpy as np\n",
    "\n",
    "def create_interactive_plot(marker_values, maternal_age, is_down, marker_config, z_axis='maternal_age'):\n",
    "    # pio.renderers.default = \"browser\"\n",
    "\n",
    "    # Separate Down syndrome and control cases\n",
    "    down_indices = np.where(is_down)[0]\n",
    "    control_indices = np.where(~is_down)[0]\n",
    "\n",
    "    # Determine z-axis values\n",
    "    if z_axis == 'maternal_age':\n",
    "        z_values = maternal_age\n",
    "        z_axis_title = 'Maternal Age'\n",
    "    elif z_axis == 'NT':\n",
    "        z_values = marker_values[:, 2]\n",
    "        z_axis_title = marker_config.markers[2].name\n",
    "    else:\n",
    "        raise ValueError(\"z_axis must be either 'maternal_age' or 'NT'\")\n",
    "\n",
    "    # Create scatter plots for Down syndrome and control cases separately\n",
    "    scatter_down = go.Scatter3d(\n",
    "        x=marker_values[down_indices, 0],\n",
    "        y=marker_values[down_indices, 1],\n",
    "        z=z_values[down_indices],\n",
    "        mode='markers',\n",
    "        marker=dict(\n",
    "            size=5,\n",
    "            color='red',\n",
    "            symbol='diamond',\n",
    "        ),\n",
    "        name='Down Syndrome',\n",
    "        text=[f\"Age: {age:.1f}, {z_axis_title}: {z:.2f}, Down Syndrome: True\" \n",
    "              for age, z in zip(maternal_age[down_indices], z_values[down_indices])],\n",
    "        hoverinfo=\"text\"\n",
    "    )\n",
    "\n",
    "    scatter_control = go.Scatter3d(\n",
    "        x=marker_values[control_indices, 0],\n",
    "        y=marker_values[control_indices, 1],\n",
    "        z=z_values[control_indices],\n",
    "        mode='markers',\n",
    "        marker=dict(\n",
    "            size=3,\n",
    "            color='blue',\n",
    "            opacity=0.1,\n",
    "        ),\n",
    "        name='Control',\n",
    "        text=[f\"Age: {age:.1f}, {z_axis_title}: {z:.2f}, Down Syndrome: False\" \n",
    "              for age, z in zip(maternal_age[control_indices], z_values[control_indices])],\n",
    "        hoverinfo=\"text\"\n",
    "    )\n",
    "\n",
    "    # Create the layout\n",
    "    layout = go.Layout(\n",
    "        scene=dict(\n",
    "            xaxis_title=marker_config.markers[0].name,\n",
    "            yaxis_title=marker_config.markers[1].name,\n",
    "            zaxis_title=z_axis_title,\n",
    "        ),\n",
    "        title=\"Down Syndrome Screening Markers\",\n",
    "        width=900,\n",
    "        height=700,\n",
    "        legend=dict(\n",
    "            yanchor=\"top\",\n",
    "            y=0.99,\n",
    "            xanchor=\"left\",\n",
    "            x=0.01\n",
    "        )\n",
    "    )\n",
    "\n",
    "    # Create the figure and show it\n",
    "    fig = go.Figure(data=[scatter_control, scatter_down], layout=layout)\n",
    "\n",
    "    # Add sliders for marker cutoffs\n",
    "    for i, marker in enumerate([marker_config.markers[0].name, marker_config.markers[1].name]):\n",
    "        fig.update_layout(\n",
    "            sliders=[dict(\n",
    "                active=0,\n",
    "                currentvalue={\"prefix\": f\"{marker} Cutoff: \"},\n",
    "                pad={\"t\": 50},\n",
    "                steps=[dict(\n",
    "                    method='update',\n",
    "                    args=[{'visible': [True, True]},\n",
    "                          {'title': f'{marker} Cutoff: {cutoff:.2f}'}],\n",
    "                    label=str(cutoff)\n",
    "                ) for cutoff in np.linspace(0.5, 2, 20)]\n",
    "            )]\n",
    "        )\n",
    "\n",
    "    fig.show()"
   ]
  },
  {
   "cell_type": "code",
   "execution_count": 396,
   "id": "4ad61863-f907-4668-a6f5-6964f318fdf8",
   "metadata": {},
   "outputs": [],
   "source": [
    "create_interactive_plot(marker_values, maternal_age, is_down, marker_config, z_axis='maternal_age')"
   ]
  },
  {
   "cell_type": "code",
   "execution_count": null,
   "id": "5d234e11-3c36-42e7-bd4b-ba450bcd7711",
   "metadata": {},
   "outputs": [],
   "source": [
    "# create_interactive_plot(marker_values, maternal_age, is_down, marker_config, z_axis='maternal_age')"
   ]
  }
 ],
 "metadata": {
  "kernelspec": {
   "display_name": "downs",
   "language": "python",
   "name": "downs"
  },
  "language_info": {
   "codemirror_mode": {
    "name": "ipython",
    "version": 3
   },
   "file_extension": ".py",
   "mimetype": "text/x-python",
   "name": "python",
   "nbconvert_exporter": "python",
   "pygments_lexer": "ipython3",
   "version": "3.12.4"
  }
 },
 "nbformat": 4,
 "nbformat_minor": 5
}
