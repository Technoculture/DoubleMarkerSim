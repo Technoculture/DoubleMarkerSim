{
 "cells": [
  {
   "cell_type": "markdown",
   "id": "666dcec5-523e-490d-92fe-8f7a5604961c",
   "metadata": {},
   "source": [
    "# Synthetic Clinical Trial for Down's Syndrome\n",
    "Given measured device performace metrics (such as sensitivity, selectivity, storage and sample processing variations), estimate the ROC curve. In other given some device variation data, generate the AUC value that would be achieved by the test in clinic?\n",
    "\n",
    "In other words, simulate an observational clinical trial for Down's syndrome.\n",
    "\n",
    "```txt\n",
    "Inputs:\n",
    "    Device Caliberation Curve with Error Bars, Storage and processing variation data with Error Bars\n",
    "Outputs:\n",
    "    ROC Curve and AUC value\n",
    "```"
   ]
  },
  {
   "cell_type": "markdown",
   "id": "dde5d091-164e-42d0-9cb2-76cdca1cd257",
   "metadata": {
    "jp-MarkdownHeadingCollapsed": true
   },
   "source": [
    "## Plan"
   ]
  },
  {
   "cell_type": "markdown",
   "id": "404611e9-2efa-400d-b00f-8cb9f216fdca",
   "metadata": {},
   "source": [
    "Here is some sample code that we would eventually wish to write:\n",
    "```py\n",
    "theoratical_max_roc, theoratical_max_auc = device_model()\n",
    "\n",
    "roc, auc = device_model(input_file=\"./raw_data.csv\")\n",
    "plot_roc(roc)\n",
    "print(\"AUC based on current device = \", auc)\n",
    "\n",
    "dr = detection_rate(roc, fpr=0.05)\n",
    "print(\"Detection rate achieved at 5% FPR is \", dr)\n",
    "```"
   ]
  },
  {
   "cell_type": "markdown",
   "id": "35608425-cf40-4d23-8fad-77dd917782d3",
   "metadata": {},
   "source": [
    "Proposed csv format for Device Caliberation Curve\n",
    "```csv\n",
    "concentration,mean,std\n",
    "-8.32,23.33,3.1\n",
    "...\n",
    "```\n",
    "\n",
    "Proposed csv format for Storage and Processing Variation data\n",
    "```csv\n",
    "marker,elapsed_days,mean,std\n",
    "bhcg,8,23.33,3.1\n",
    "bhcg,10,24.53,4.2\n",
    "...\n",
    "```"
   ]
  },
  {
   "cell_type": "markdown",
   "id": "43ad32e9-8efc-4cb7-8a41-c62ff655db62",
   "metadata": {
    "jp-MarkdownHeadingCollapsed": true
   },
   "source": [
    "### Process\n",
    "1. ✅ Produce a model of population distribution for down syndrome\n",
    "    1. Define probability distribution of samples\n",
    "    2. Generate lots of samples based on the probability distribution (Age, b-hcg, papp-a, NT scan)\n",
    "2. Model and simulate storage and processing errors\n",
    "3. Model and simulate sensitivity and selectivity of our sensor\n",
    "4. ✅ Define a diagnostic algorithm, generate RUC curve and AUC value"
   ]
  },
  {
   "cell_type": "markdown",
   "id": "9d3edf57-c30a-4ba7-a67a-5dc5cc1297ef",
   "metadata": {},
   "source": [
    "Example\n",
    "1. P(H) = 0.5, P(T) = 0.5 : **Probability Distribution** : Normal Distribution ( Average(X), SD(X) ) / Log Normal Distribution ( Average(log(X)), SD(log(X) )\n",
    "2. **Random Sampling** (take my distribution) -> then produce a random sample"
   ]
  },
  {
   "cell_type": "markdown",
   "id": "300c588a-4bb1-4421-8f17-ee8012a43797",
   "metadata": {},
   "source": [
    "> Note\n",
    "> \n",
    "> **MoM**: Multiples of Median is used as a gestational age normalized form of the raw values from different markers."
   ]
  },
  {
   "cell_type": "markdown",
   "id": "cfabd6c5-567e-47a5-8d87-4292d0274e50",
   "metadata": {
    "jp-MarkdownHeadingCollapsed": true
   },
   "source": [
    "## Modeling of population distribution for down syndrome"
   ]
  },
  {
   "cell_type": "code",
   "execution_count": 521,
   "id": "2fa2f3c7-6160-45c7-988c-3c44b5e7ef25",
   "metadata": {},
   "outputs": [],
   "source": [
    "# Import libraries\n",
    "import math\n",
    "import numpy as np\n",
    "from dataclasses import dataclass, field\n",
    "from typing import List, Tuple\n",
    "from pprint import pprint\n",
    "import matplotlib.pyplot as plt"
   ]
  },
  {
   "cell_type": "code",
   "execution_count": 587,
   "id": "c1870705-64a8-4f97-ac78-e1a4d9f5ca7a",
   "metadata": {},
   "outputs": [],
   "source": [
    "# Some helper lambdas to make switching bases easier to log\n",
    "\n",
    "# Log base 10\n",
    "lg = np.log10\n",
    "inv_lg = lambda x: np.pow(10, x)\n",
    "\n",
    "# Natural Logs\n",
    "# lg = np.log\n",
    "# inv_lg = lambda x: np.exp(x)"
   ]
  },
  {
   "cell_type": "code",
   "execution_count": 522,
   "id": "3a4d63e4-b111-42f6-a3f4-a5fd68291873",
   "metadata": {},
   "outputs": [],
   "source": [
    "@dataclass\n",
    "class Marker:\n",
    "    \"\"\"This class is used to define a particular marker. Example, b-hCG.\"\"\"\n",
    "    \n",
    "    name: str # Name of the marker, example: b-hCG\n",
    "    median_mom_down: float # median MoM for down syndrome patients\n",
    "    median_mom_control: float # median MoM for control patients\n",
    "    log_sd_down: float = 0.0 # log of the sd of the marker's MoM values in Down Syndrome cases\n",
    "    log_sd_control: float = 0.0 # log of the sd of the marker's MoM values in Control cases"
   ]
  },
  {
   "cell_type": "code",
   "execution_count": 523,
   "id": "bc8cba81-d2b5-470d-9cf1-78b13b6dcc62",
   "metadata": {},
   "outputs": [],
   "source": [
    "@dataclass\n",
    "class PopulationConfig:\n",
    "    \"\"\"\n",
    "    Maternal Age is Log Normally distributed.\n",
    "    \"\"\"\n",
    "    maternal_age_mean: float = 27.0 # Mean/Average of maternal age in years\n",
    "    maternal_age_sd: float = 5.5 # SD of maternal age in years\n",
    "\n",
    "    down_syndrome_prevalence: float = 1/700 # Prevalence of Down syndrome in the population\n",
    "\n",
    "@dataclass\n",
    "class MarkersConfig:\n",
    "    \"\"\"\n",
    "    Config for the various markers being analysed\n",
    "    \"\"\"\n",
    "    markers: list[Marker] = field(default_factory=list)\n",
    "    \n",
    "    correlation_matrix_down: np.ndarray = field(default_factory=lambda: np.eye(1)) # Correlatiuon matrix for Down syndrome cases\n",
    "    correlation_matrix_control: np.ndarray = field(default_factory=lambda: np.eye(1)) # Correlation matrix for control cases\n",
    "\n",
    "    def __post_init__(self):\n",
    "        self.markers = [\n",
    "            Marker(name=\"Free B-hCG\", median_mom_down=1.70, median_mom_control=1.01, log_sd_down=0.28, log_sd_control=0.27),\n",
    "            Marker(name=\"PAPP-A\", median_mom_down=0.49, median_mom_control=1.00, log_sd_down=0.31, log_sd_control=0.25),\n",
    "            Marker(name=\"NT\", median_mom_down=1.74, median_mom_control=1.01, log_sd_down=0.23, log_sd_control=0.13),\n",
    "        ]\n",
    "\n",
    "        markers_count = len(self.markers)\n",
    "        self.correlation_matrix_down = self.correlation_matrix_control = np.eye(markers_count)"
   ]
  },
  {
   "cell_type": "code",
   "execution_count": 524,
   "id": "16fbced6-668f-4328-a99a-11510175860c",
   "metadata": {},
   "outputs": [
    {
     "name": "stdout",
     "output_type": "stream",
     "text": [
      "PopulationConfig(maternal_age_mean=27.0,\n",
      "                 maternal_age_sd=5.5,\n",
      "                 down_syndrome_prevalence=0.0014285714285714286)\n",
      "MarkersConfig(markers=[Marker(name='Free B-hCG',\n",
      "                              median_mom_down=1.7,\n",
      "                              median_mom_control=1.01,\n",
      "                              log_sd_down=0.28,\n",
      "                              log_sd_control=0.27),\n",
      "                       Marker(name='PAPP-A',\n",
      "                              median_mom_down=0.49,\n",
      "                              median_mom_control=1.0,\n",
      "                              log_sd_down=0.31,\n",
      "                              log_sd_control=0.25),\n",
      "                       Marker(name='NT',\n",
      "                              median_mom_down=1.74,\n",
      "                              median_mom_control=1.01,\n",
      "                              log_sd_down=0.23,\n",
      "                              log_sd_control=0.13)],\n",
      "              correlation_matrix_down=array([[1., 0., 0.],\n",
      "       [0., 1., 0.],\n",
      "       [0., 0., 1.]]),\n",
      "              correlation_matrix_control=array([[1., 0., 0.],\n",
      "       [0., 1., 0.],\n",
      "       [0., 0., 1.]]))\n"
     ]
    }
   ],
   "source": [
    "pop_config = PopulationConfig()\n",
    "marker_config = MarkersConfig()\n",
    "\n",
    "pprint(pop_config)\n",
    "pprint(marker_config)"
   ]
  },
  {
   "cell_type": "code",
   "execution_count": 525,
   "id": "95f51ba5-9e5d-4cf5-b39f-28a060fc59d0",
   "metadata": {},
   "outputs": [
    {
     "data": {
      "text/plain": [
       "array([[1., 0., 0.],\n",
       "       [0., 1., 0.],\n",
       "       [0., 0., 1.]])"
      ]
     },
     "execution_count": 525,
     "metadata": {},
     "output_type": "execute_result"
    }
   ],
   "source": [
    "config.correlation_matrix_control"
   ]
  },
  {
   "cell_type": "markdown",
   "id": "fb7ca7e4-8b45-41fc-b1ef-3d9b84541e3c",
   "metadata": {
    "jp-MarkdownHeadingCollapsed": true
   },
   "source": [
    "## Generate lots of samples based on the probability distribution"
   ]
  },
  {
   "cell_type": "code",
   "execution_count": 526,
   "id": "7069dbce-8fbf-4630-8f6d-e232b1a0a5f4",
   "metadata": {},
   "outputs": [],
   "source": [
    "sample_size: int = 1_00_000 # Number of samples to be generated from the distribution"
   ]
  },
  {
   "cell_type": "code",
   "execution_count": 527,
   "id": "d57497bf-bb1d-4cea-aa9b-5d70a5083b34",
   "metadata": {},
   "outputs": [],
   "source": [
    "# If needed, we can make make the random functions behave the same every time by choosing a seed value\n",
    "np.random.seed(42)"
   ]
  },
  {
   "cell_type": "code",
   "execution_count": 528,
   "id": "daf19cab-852f-4697-987b-337b8b59b1c1",
   "metadata": {},
   "outputs": [
    {
     "data": {
      "text/plain": [
       "array([False, False, False, ..., False, False, False])"
      ]
     },
     "execution_count": 528,
     "metadata": {},
     "output_type": "execute_result"
    }
   ],
   "source": [
    "# Randomly (normally) assign down syndrome to patients based on down syndrome prevalence (usually 1/700)\n",
    "has_down = np.random.random(sample_size) < pop_config.down_syndrome_prevalence\n",
    "has_down"
   ]
  },
  {
   "cell_type": "code",
   "execution_count": 529,
   "id": "601425dd-1033-4eb9-90bd-c56249bc582c",
   "metadata": {},
   "outputs": [
    {
     "name": "stdout",
     "output_type": "stream",
     "text": [
      "We get the prevalence of 0.13% which is similar to the expected value of 0.14%\n"
     ]
    }
   ],
   "source": [
    "sampled_prevalence = (np.sum(is_down) / sample_size)\n",
    "print(f\"We get the prevalence of {sampled_prevalence*100:.2f}% which is similar to the expected value of {1/7:.2f}%\")\n",
    "\n",
    "assert np.allclose(sampled_prevalence, pop_config.down_syndrome_prevalence, atol=1/2000), \"Sampled prevalence should be similar to expected prevalence\""
   ]
  },
  {
   "cell_type": "code",
   "execution_count": 530,
   "id": "68e87514-5afc-4945-826b-e708f19837d7",
   "metadata": {
    "scrolled": true
   },
   "outputs": [
    {
     "data": {
      "text/plain": [
       "(0.09, 0.19)"
      ]
     },
     "execution_count": 530,
     "metadata": {},
     "output_type": "execute_result"
    }
   ],
   "source": [
    "min_max = lambda v, tol: ((v - tol) * 100, (v + tol) * 100)\n",
    "\n",
    "min_max(0.0014, 1/2000)"
   ]
  },
  {
   "cell_type": "markdown",
   "id": "ab1e11fd-d92d-43e7-9b80-e5bf3c10cebc",
   "metadata": {},
   "source": [
    "Let X be a random variable with a log normal distribution  $N(\\mu_X, \\sigma^2_X$). Then the $ln(X)$ has the mean $\\mu$ and variance $\\sigma^2$.\n",
    "\n",
    "$$\n",
    "\\begin{align}\n",
    "\\mu &= ln({\\frac{\\mu^2_X}{\\sqrt{\\mu^2_X + \\sigma^2_X}}}) \\\\\n",
    "\\sigma^2 &= ln(1 + \\frac{\\sigma^2_X}{\\mu^2_X})\n",
    "\\end{align}\n",
    "$$"
   ]
  },
  {
   "cell_type": "code",
   "execution_count": 564,
   "id": "0d556e20-bb48-42c1-a049-577e6ea1c911",
   "metadata": {},
   "outputs": [
    {
     "name": "stdout",
     "output_type": "stream",
     "text": [
      "1.4225351280228231 0.13288066929515427\n"
     ]
    },
    {
     "data": {
      "text/plain": [
       "array([1.45230183, 1.28287848, 1.21256322, ..., 1.36606743, 1.32334795,\n",
       "       1.3083661 ])"
      ]
     },
     "execution_count": 564,
     "metadata": {},
     "output_type": "execute_result"
    }
   ],
   "source": [
    "mu = np.log10(pop_config.maternal_age_mean**2 / (np.sqrt(pop_config.maternal_age_mean**2 + pop_config.maternal_age_sd**2)))\n",
    "sig2 = np.log10(1 + (pop_config.maternal_age_sd ** 2 / pop_config.maternal_age_mean ** 2))\n",
    "sig = np.sqrt(sig2)\n",
    "\n",
    "log_maternal_ages = np.random.normal(\n",
    "    mu,\n",
    "    sig,\n",
    "    sample_size\n",
    ")\n",
    "\n",
    "print(\n",
    "    mu, sig\n",
    ")\n",
    "\n",
    "log_maternal_ages"
   ]
  },
  {
   "cell_type": "code",
   "execution_count": 565,
   "id": "007481a0-4969-4170-abff-bd020ddfc1c4",
   "metadata": {},
   "outputs": [],
   "source": [
    "def summary_stats(data: np.ndarray):\n",
    "    print(f\"X ~ N(μ, σ^2): N({np.mean(data):.4f}, {np.std(data):.4f})\")\n",
    "    print(f\"Range: {np.min(data):.4f} ≤ X ≤ {np.max(data):.4f}\")\n",
    "\n",
    "    print(f\"median (M): {np.median(data):.4f}\\n\")"
   ]
  },
  {
   "cell_type": "markdown",
   "id": "2bb77f2f-d9da-4c3d-9b0f-0a0254c495b5",
   "metadata": {},
   "source": [
    "inverse of log is exponential"
   ]
  },
  {
   "cell_type": "code",
   "execution_count": 569,
   "id": "aa9b4505-4d2a-48e0-a874-08049f444962",
   "metadata": {},
   "outputs": [
    {
     "data": {
      "text/plain": [
       "(array([2.800e+01, 2.030e+02, 5.860e+02, 1.390e+03, 2.374e+03, 3.884e+03,\n",
       "        5.287e+03, 6.512e+03, 7.594e+03, 7.819e+03, 8.154e+03, 7.975e+03,\n",
       "        7.184e+03, 6.732e+03, 5.955e+03, 5.152e+03, 4.403e+03, 3.600e+03,\n",
       "        3.053e+03, 2.412e+03, 1.987e+03, 1.653e+03, 1.279e+03, 1.004e+03,\n",
       "        7.990e+02, 6.620e+02, 5.580e+02, 3.990e+02, 3.140e+02, 2.330e+02,\n",
       "        1.760e+02, 1.340e+02, 1.230e+02, 8.000e+01, 8.500e+01, 4.200e+01,\n",
       "        5.200e+01, 3.800e+01, 2.000e+01, 1.100e+01, 1.500e+01, 1.500e+01,\n",
       "        9.000e+00, 2.000e+00, 5.000e+00, 2.000e+00, 3.000e+00, 1.000e+00,\n",
       "        1.000e+00, 1.000e+00]),\n",
       " array([ 7.95186456,  9.52206767, 11.09227077, 12.66247388, 14.23267698,\n",
       "        15.80288009, 17.37308319, 18.94328629, 20.5134894 , 22.0836925 ,\n",
       "        23.65389561, 25.22409871, 26.79430182, 28.36450492, 29.93470802,\n",
       "        31.50491113, 33.07511423, 34.64531734, 36.21552044, 37.78572355,\n",
       "        39.35592665, 40.92612976, 42.49633286, 44.06653596, 45.63673907,\n",
       "        47.20694217, 48.77714528, 50.34734838, 51.91755149, 53.48775459,\n",
       "        55.0579577 , 56.6281608 , 58.1983639 , 59.76856701, 61.33877011,\n",
       "        62.90897322, 64.47917632, 66.04937943, 67.61958253, 69.18978564,\n",
       "        70.75998874, 72.33019184, 73.90039495, 75.47059805, 77.04080116,\n",
       "        78.61100426, 80.18120737, 81.75141047, 83.32161358, 84.89181668,\n",
       "        86.46201978]),\n",
       " <BarContainer object of 50 artists>)"
      ]
     },
     "execution_count": 569,
     "metadata": {},
     "output_type": "execute_result"
    },
    {
     "data": {
      "image/png": "[encoded data removed]",
      "text/plain": [
       "<Figure size 640x480 with 1 Axes>"
      ]
     },
     "metadata": {},
     "output_type": "display_data"
    }
   ],
   "source": [
    "# maternal_age = np.exp(log_maternal_ages)\n",
    "maternal_age = np.pow(10, log_maternal_ages)\n",
    "# print(maternal_age)\n",
    "\n",
    "plt.hist(maternal_age, bins=50)"
   ]
  },
  {
   "cell_type": "code",
   "execution_count": 570,
   "id": "d2d1b270-a820-4d88-87b6-0416eda4be79",
   "metadata": {},
   "outputs": [
    {
     "name": "stdout",
     "output_type": "stream",
     "text": [
      "X ~ N(μ, σ^2): N(1.4223, 0.1328)\n",
      "Range: 0.9005 ≤ X ≤ 1.9368\n",
      "median (M): 1.4220\n",
      "\n",
      "X ~ N(μ, σ^2): N(27.7102, 8.6668)\n",
      "Range: 7.9519 ≤ X ≤ 86.4620\n",
      "median (M): 26.4233\n",
      "\n"
     ]
    }
   ],
   "source": [
    "summary_stats(log_maternal_ages)\n",
    "# summary_stats(np.exp(log_maternal_ages))\n",
    "summary_stats(np.pow(10, log_maternal_ages))"
   ]
  },
  {
   "cell_type": "markdown",
   "id": "88bc4a69-37b0-4827-8cde-7d19e5e9b234",
   "metadata": {},
   "source": [
    "Log normal distribution is defined as:\n",
    "$$\n",
    "Y = ln(X), Y \\sim N(\\mu, \\sigma)\n",
    "$$\n",
    "\n",
    "In other words, where the log of the random variable Y is normally distributed."
   ]
  },
  {
   "cell_type": "markdown",
   "id": "8c6fa750-1228-4a2f-9925-dde548cda39d",
   "metadata": {},
   "source": [
    "For a log normally distributed random variable X. The median for X is just the exponential of its mean. \n",
    "$$\n",
    "M = e^\\mu\n",
    "=> ln(M) = \\mu\n",
    "$$"
   ]
  },
  {
   "cell_type": "code",
   "execution_count": 571,
   "id": "22e43767-1ac2-42d2-b0f0-6a5d88c03208",
   "metadata": {},
   "outputs": [
    {
     "data": {
      "text/plain": [
       "np.float64(-0.3098039199714863)"
      ]
     },
     "execution_count": 571,
     "metadata": {},
     "output_type": "execute_result"
    }
   ],
   "source": [
    "# Example\n",
    "avg = np.log10(0.49)\n",
    "avg"
   ]
  },
  {
   "cell_type": "code",
   "execution_count": 572,
   "id": "0f543dab-43ef-49f0-be78-45cc8ba610a1",
   "metadata": {},
   "outputs": [
    {
     "data": {
      "text/plain": [
       "(array([ 0.23044892, -0.30980392,  0.24054925]),\n",
       " array([0.00432137, 0.        , 0.00432137]))"
      ]
     },
     "execution_count": 572,
     "metadata": {},
     "output_type": "execute_result"
    }
   ],
   "source": [
    "# Calculate mean of log10 values for all markers for both down's samples and healthy samples\n",
    "\n",
    "mean_down = np.log10([m.median_mom_down for m in marker_config.markers]) # Mean for all markers for down's patients\n",
    "# For example:\n",
    "#  Median MoM value of Papp-a for Down's is 0.49\n",
    "#  Given the above relationship between mean and median for a log-normally distributed variable, \n",
    "#  we can state that the Mean of Papp-a MoM values for Down's is log10(0.49) = -0.31\n",
    "\n",
    "mean_control = np.log10([m.median_mom_control for m in marker_config.markers]) # Mean for all markers for healthy patients\n",
    "\n",
    "mean_down, mean_control"
   ]
  },
  {
   "cell_type": "markdown",
   "id": "36d2a61c-54c0-45cf-9f34-cba05e8020a4",
   "metadata": {},
   "source": [
    "### Covariance Matrices"
   ]
  },
  {
   "cell_type": "markdown",
   "id": "79cd39c9-4ec5-4364-8829-f6d1cc9005d9",
   "metadata": {},
   "source": [
    "Assuming that $X_i$ for all $i=0...n$ are independent random variables, the $Cov(X_i, Y_j) = 0$ and hence we get the following diagnol form containing only the variances.\n",
    "\n",
    "$$\n",
    "Cov(X, X) = \\begin{bmatrix}\n",
    "Var(X_1) & 0 & 0\\\\\n",
    "0 & Var(X_2) & 0\\\\\n",
    "0 & 0 & Var(X_3)\n",
    "\\end{bmatrix} = \\begin{bmatrix}\n",
    "\\sigma^2(X_1) & 0 & 0\\\\\n",
    "0 & \\sigma^2(X_2) & 0\\\\\n",
    "0 & 0 & \\sigma^2(X_3)\n",
    "\\end{bmatrix} = diag(\\sigma^2(X_1), \\sigma^2(X_2), \\sigma^2(X_3))\n",
    "$$\n",
    "\n",
    "The covariance matrix is a diagonal matrix containing only the variances of each of the markers.\n",
    "\n",
    "Concretely,\n",
    "$$\n",
    "Cov(X, X) = \\begin{bmatrix}\n",
    "Var(Pappa) & 0 & 0\\\\\n",
    "0 & Var(\\beta hCG) & 0\\\\\n",
    "0 & 0 & Var(NT)\n",
    "\\end{bmatrix} = \\begin{bmatrix}\n",
    "\\sigma^2(Pappa) & 0 & 0\\\\\n",
    "0 & \\sigma^2(\\beta hCG) & 0\\\\\n",
    "0 & 0 & \\sigma^2(NT)\n",
    "\\end{bmatrix} = diag(\\sigma^2(Pappa), \\sigma^2(\\beta hCG), \\sigma^2(NT))\n",
    "$$"
   ]
  },
  {
   "cell_type": "code",
   "execution_count": 577,
   "id": "da497634-e7b9-4fe1-9dfb-9e18b58323cb",
   "metadata": {},
   "outputs": [
    {
     "data": {
      "text/plain": [
       "(array([[0.0784, 0.    , 0.    ],\n",
       "        [0.    , 0.0961, 0.    ],\n",
       "        [0.    , 0.    , 0.0529]]),\n",
       " array([[0.0729, 0.    , 0.    ],\n",
       "        [0.    , 0.0625, 0.    ],\n",
       "        [0.    , 0.    , 0.0169]]))"
      ]
     },
     "execution_count": 577,
     "metadata": {},
     "output_type": "execute_result"
    }
   ],
   "source": [
    "variance_matrix_down = np.diag([m.log_sd_down**2 for m in marker_config.markers])\n",
    "variance_matrix_control = np.diag([m.log_sd_control**2 for m in marker_config.markers])\n",
    "\n",
    "variance_matrix_down, variance_matrix_control"
   ]
  },
  {
   "cell_type": "code",
   "execution_count": 578,
   "id": "b2271d7c-9061-46c6-95f5-74602e0e210f",
   "metadata": {},
   "outputs": [],
   "source": [
    "sd_matrix_down = np.sqrt(variance_matrix_down)\n",
    "sd_matrix_control = np.sqrt(variance_matrix_control)"
   ]
  },
  {
   "cell_type": "markdown",
   "id": "16fa0f5c-7583-458b-aaa0-eda505a4c224",
   "metadata": {},
   "source": [
    "### Correlation Matrices"
   ]
  },
  {
   "cell_type": "code",
   "execution_count": 546,
   "id": "6910cf3c-3d4d-4566-a04d-19aa958b854b",
   "metadata": {},
   "outputs": [
    {
     "data": {
      "text/plain": [
       "['Free B-hCG', 'PAPP-A', 'NT']"
      ]
     },
     "execution_count": 546,
     "metadata": {},
     "output_type": "execute_result"
    }
   ],
   "source": [
    "[m.name for m in marker_config.markers]"
   ]
  },
  {
   "cell_type": "markdown",
   "id": "bf0878e9-cb7c-46a0-bf0d-6f60e51d6de9",
   "metadata": {},
   "source": [
    "$$\n",
    "\\begin{bmatrix}\n",
    "Free B-hCG / Free B-hCG & Free B-hCG / PAPP-A & Free B-hCG / NT\\\\\n",
    "PAPP-A / Free B-hCG & PAPP-A / PAPP-A & PAPP-A / NT\\\\\n",
    "NT / Free B-hCG & NT / PAPP-A & NT / NT\\\\\n",
    "\\end{bmatrix}\n",
    "$$"
   ]
  },
  {
   "cell_type": "markdown",
   "id": "f451ce56-ff5a-4133-a35f-2650d92a7adb",
   "metadata": {},
   "source": [
    "Note: Correlations of markers with NT is assumed to be zero as per the paper (table 3)"
   ]
  },
  {
   "cell_type": "code",
   "execution_count": 548,
   "id": "cf1d8945-0c83-4381-a1f3-2d477bccff04",
   "metadata": {},
   "outputs": [],
   "source": [
    "# Correlation between different markers for Down's samples\n",
    "correlation_matrix_down = np.array(\n",
    "    [[1.,    0.191, 0.],\n",
    "     [0.191, 1.,    0.],\n",
    "     [0.,    0.,    1.]]\n",
    ")"
   ]
  },
  {
   "cell_type": "code",
   "execution_count": 549,
   "id": "af720a08-2e92-4730-8da3-795c2eca9e12",
   "metadata": {},
   "outputs": [],
   "source": [
    "# Correlation between different markers for Healthy samples\n",
    "correlation_matrix_control = np.array(\n",
    "    [[1.,    0.186, 0.],\n",
    "     [0.186, 1.,    0.],\n",
    "     [0.,    0.,    1.]]\n",
    ")"
   ]
  },
  {
   "cell_type": "code",
   "execution_count": 550,
   "id": "7d3d06f8-1e5e-4fe8-9d13-e5d11b70e549",
   "metadata": {},
   "outputs": [
    {
     "data": {
      "text/plain": [
       "((3, 3), (3, 3))"
      ]
     },
     "execution_count": 550,
     "metadata": {},
     "output_type": "execute_result"
    }
   ],
   "source": [
    "cov_down.shape, correlation_matrix_down.shape"
   ]
  },
  {
   "cell_type": "markdown",
   "id": "d831e7d4-3928-4a3d-9225-50bad3bef152",
   "metadata": {},
   "source": [
    "$$\n",
    "Cov(X) = \\sqrt{Cov(X)} Corr(X) \\sqrt{Cov(X)}\n",
    "$$"
   ]
  },
  {
   "cell_type": "code",
   "execution_count": 579,
   "id": "44247ecd-5258-4436-8626-026fc23eed11",
   "metadata": {},
   "outputs": [
    {
     "data": {
      "text/plain": [
       "array([[0.0784   , 0.0165788, 0.       ],\n",
       "       [0.0165788, 0.0961   , 0.       ],\n",
       "       [0.       , 0.       , 0.0529   ]])"
      ]
     },
     "execution_count": 579,
     "metadata": {},
     "output_type": "execute_result"
    }
   ],
   "source": [
    "# Covariance matrix of all markers for Down's patients\n",
    "cov_down = sd_matrix_down @ correlation_matrix_down @ sd_matrix_down\n",
    "cov_down"
   ]
  },
  {
   "cell_type": "code",
   "execution_count": 580,
   "id": "28a70ffb-360c-41b2-b680-0a56be1c5c8f",
   "metadata": {},
   "outputs": [
    {
     "data": {
      "text/plain": [
       "array([[0.0729  , 0.012555, 0.      ],\n",
       "       [0.012555, 0.0625  , 0.      ],\n",
       "       [0.      , 0.      , 0.0169  ]])"
      ]
     },
     "execution_count": 580,
     "metadata": {},
     "output_type": "execute_result"
    }
   ],
   "source": [
    "# Covariance matrix of all markers for Healthy patients\n",
    "cov_control = sd_matrix_control @ correlation_matrix_control @ sd_matrix_control\n",
    "cov_control"
   ]
  },
  {
   "cell_type": "markdown",
   "id": "9921a93f-b454-4321-8ee1-cc646dd781ba",
   "metadata": {},
   "source": [
    "### Generate Marker Values for all patient samples"
   ]
  },
  {
   "cell_type": "code",
   "execution_count": 581,
   "id": "78b89ffe-f00d-4b59-954d-a19a3f482b58",
   "metadata": {
    "scrolled": true
   },
   "outputs": [
    {
     "data": {
      "text/plain": [
       "(133, 3)"
      ]
     },
     "execution_count": 581,
     "metadata": {},
     "output_type": "execute_result"
    }
   ],
   "source": [
    "# Sample the marker values for each of the down's patients\n",
    "\n",
    "log_marker_values_down = np.random.multivariate_normal(\n",
    "    mean_down, # Mean of all markers of all markers for Down's patients\n",
    "    cov_down, # Covariance matrix of all markers for Down's patients\n",
    "    np.sum(is_down) # We want to sample these marker values for ALL the down's samples only\n",
    ")\n",
    "\n",
    "log_marker_values_down.shape #, log_marker_values_down"
   ]
  },
  {
   "cell_type": "code",
   "execution_count": 582,
   "id": "0c01a75b-8bbf-4e6c-b9af-140c7a90cf67",
   "metadata": {},
   "outputs": [
    {
     "data": {
      "text/plain": [
       "(99867, 3)"
      ]
     },
     "execution_count": 582,
     "metadata": {},
     "output_type": "execute_result"
    }
   ],
   "source": [
    "# Sample the marker values for each of the healthy patients\n",
    "\n",
    "log_marker_values_control = np.random.multivariate_normal(\n",
    "    mean_control, # Mean of all markers of all markers for healthy patients\n",
    "    cov_control, # Covariance matrix of all markers for Healthy patients\n",
    "    np.sum(~is_down) # We want to sample these marker values for ALL the healthy samples only\n",
    ")\n",
    "\n",
    "log_marker_values_control.shape #, log_marker_values_control"
   ]
  },
  {
   "cell_type": "markdown",
   "id": "e326abea-b9b8-40fb-b976-e2a10132d9fa",
   "metadata": {},
   "source": [
    "Now, lets put all the marker values together into a single big matrix"
   ]
  },
  {
   "cell_type": "code",
   "execution_count": 583,
   "id": "6fd9d1f2-6b85-4b6a-abca-46ebca186ee3",
   "metadata": {},
   "outputs": [
    {
     "data": {
      "text/plain": [
       "(100000, 3)"
      ]
     },
     "execution_count": 583,
     "metadata": {},
     "output_type": "execute_result"
    }
   ],
   "source": [
    "log_marker_values = np.zeros((sample_size, len(marker_config.markers)))\n",
    "log_marker_values.shape"
   ]
  },
  {
   "cell_type": "code",
   "execution_count": 418,
   "id": "43b9ac4b-6d6b-40de-87d9-2f13d60e59ed",
   "metadata": {},
   "outputs": [],
   "source": [
    "log_marker_values[is_down] = log_marker_values_down\n",
    "log_marker_values[~is_down] = log_marker_values_control"
   ]
  },
  {
   "cell_type": "code",
   "execution_count": 419,
   "id": "3853e1b4-3eeb-4c48-b806-4cb9f924ae63",
   "metadata": {},
   "outputs": [
    {
     "data": {
      "text/plain": [
       "array([[-0.11497528,  0.28051598,  0.2491788 ],\n",
       "       [-0.32430664, -0.147406  , -0.18140637],\n",
       "       [-0.40573785,  0.66809531,  0.06793337],\n",
       "       ...,\n",
       "       [ 0.07578579,  0.03609642,  0.18519711],\n",
       "       [ 0.37674396, -0.09690599, -0.34386122],\n",
       "       [ 0.052934  ,  0.28484571, -0.09235188]])"
      ]
     },
     "execution_count": 419,
     "metadata": {},
     "output_type": "execute_result"
    }
   ],
   "source": [
    "log_marker_values"
   ]
  },
  {
   "cell_type": "markdown",
   "id": "0cb33a2f-762f-46b2-9e0d-6b687691c18e",
   "metadata": {},
   "source": [
    "Convert all the marker values from log(MoM) to MoM values"
   ]
  },
  {
   "cell_type": "code",
   "execution_count": 558,
   "id": "12a84074-89bf-499f-8c2b-9369a4c750fd",
   "metadata": {},
   "outputs": [
    {
     "data": {
      "text/plain": [
       "array([[0.76740517, 1.90772592, 1.77492009],\n",
       "       [0.47390726, 0.71218693, 0.65855739],\n",
       "       [0.39288201, 4.65688282, 1.16931997],\n",
       "       ...,\n",
       "       [1.1906546 , 1.08666686, 1.53178253],\n",
       "       [2.3809154 , 0.8000074 , 0.45304233],\n",
       "       [1.12962422, 1.92684024, 0.80844062]])"
      ]
     },
     "execution_count": 558,
     "metadata": {},
     "output_type": "execute_result"
    }
   ],
   "source": [
    "# marker_values = np.exp(log_marker_values)\n",
    "marker_values = np.pow(10, log_marker_values)\n",
    "marker_values"
   ]
  },
  {
   "cell_type": "code",
   "execution_count": 573,
   "id": "1c66abcc-6070-4782-9e55-03681ef0f47d",
   "metadata": {},
   "outputs": [
    {
     "data": {
      "text/plain": [
       "<mpl_toolkits.mplot3d.art3d.Path3DCollection at 0x12f94ff50>"
      ]
     },
     "execution_count": 573,
     "metadata": {},
     "output_type": "execute_result"
    },
    {
     "data": {
      "image/png": "[encoded data removed]",
      "text/plain": [
       "<Figure size 640x480 with 1 Axes>"
      ]
     },
     "metadata": {},
     "output_type": "display_data"
    }
   ],
   "source": [
    "fig = plt.figure()\n",
    "ax = fig.add_subplot(111, projection='3d')\n",
    "\n",
    "ax.scatter(\n",
    "    marker_values[:,0], \n",
    "    marker_values[:,1],\n",
    "    # marker_values[:,2],\n",
    "    maternal_age,\n",
    "    c=~is_down\n",
    ")"
   ]
  },
  {
   "cell_type": "code",
   "execution_count": 562,
   "id": "223cbea2-6c75-4087-b766-7231b59e5ad1",
   "metadata": {},
   "outputs": [],
   "source": [
    "import plotly.graph_objects as go\n",
    "import plotly.io as pio\n",
    "import numpy as np\n",
    "\n",
    "def create_interactive_plot(marker_values, maternal_age, is_down, marker_config, z_axis='maternal_age'):\n",
    "    # pio.renderers.default = \"browser\"\n",
    "\n",
    "    # Separate Down syndrome and control cases\n",
    "    down_indices = np.where(is_down)[0]\n",
    "    control_indices = np.where(~is_down)[0]\n",
    "\n",
    "    # Determine z-axis values\n",
    "    if z_axis == 'maternal_age':\n",
    "        z_values = maternal_age\n",
    "        z_axis_title = 'Maternal Age'\n",
    "    elif z_axis == 'NT':\n",
    "        z_values = marker_values[:, 2]\n",
    "        z_axis_title = marker_config.markers[2].name\n",
    "    else:\n",
    "        raise ValueError(\"z_axis must be either 'maternal_age' or 'NT'\")\n",
    "\n",
    "    # Create scatter plots for Down syndrome and control cases separately\n",
    "    scatter_down = go.Scatter3d(\n",
    "        x=marker_values[down_indices, 0],\n",
    "        y=marker_values[down_indices, 1],\n",
    "        z=z_values[down_indices],\n",
    "        mode='markers',\n",
    "        marker=dict(\n",
    "            size=5,\n",
    "            color='red',\n",
    "            symbol='diamond',\n",
    "        ),\n",
    "        name='Down Syndrome',\n",
    "        text=[f\"Age: {age:.1f}, {z_axis_title}: {z:.2f}, Down Syndrome: True\" \n",
    "              for age, z in zip(maternal_age[down_indices], z_values[down_indices])],\n",
    "        hoverinfo=\"text\"\n",
    "    )\n",
    "\n",
    "    scatter_control = go.Scatter3d(\n",
    "        x=marker_values[control_indices, 0],\n",
    "        y=marker_values[control_indices, 1],\n",
    "        z=z_values[control_indices],\n",
    "        mode='markers',\n",
    "        marker=dict(\n",
    "            size=3,\n",
    "            color='blue',\n",
    "            opacity=0.1,\n",
    "        ),\n",
    "        name='Control',\n",
    "        text=[f\"Age: {age:.1f}, {z_axis_title}: {z:.2f}, Down Syndrome: False\" \n",
    "              for age, z in zip(maternal_age[control_indices], z_values[control_indices])],\n",
    "        hoverinfo=\"text\"\n",
    "    )\n",
    "\n",
    "    # Create the layout\n",
    "    layout = go.Layout(\n",
    "        scene=dict(\n",
    "            xaxis_title=marker_config.markers[0].name,\n",
    "            yaxis_title=marker_config.markers[1].name,\n",
    "            zaxis_title=z_axis_title,\n",
    "        ),\n",
    "        title=\"Down Syndrome Screening Markers\",\n",
    "        width=900,\n",
    "        height=700,\n",
    "        legend=dict(\n",
    "            yanchor=\"top\",\n",
    "            y=0.99,\n",
    "            xanchor=\"left\",\n",
    "            x=0.01\n",
    "        )\n",
    "    )\n",
    "\n",
    "    # Create the figure and show it\n",
    "    fig = go.Figure(data=[scatter_control, scatter_down], layout=layout)\n",
    "\n",
    "    # Add sliders for marker cutoffs\n",
    "    for i, marker in enumerate([marker_config.markers[0].name, marker_config.markers[1].name]):\n",
    "        fig.update_layout(\n",
    "            sliders=[dict(\n",
    "                active=0,\n",
    "                currentvalue={\"prefix\": f\"{marker} Cutoff: \"},\n",
    "                pad={\"t\": 50},\n",
    "                steps=[dict(\n",
    "                    method='update',\n",
    "                    args=[{'visible': [True, True]},\n",
    "                          {'title': f'{marker} Cutoff: {cutoff:.2f}'}],\n",
    "                    label=str(cutoff)\n",
    "                ) for cutoff in np.linspace(0.5, 2, 20)]\n",
    "            )]\n",
    "        )\n",
    "\n",
    "    fig.show()"
   ]
  },
  {
   "cell_type": "code",
   "execution_count": 574,
   "id": "4ad61863-f907-4668-a6f5-6964f318fdf8",
   "metadata": {},
   "outputs": [],
   "source": [
    "# create_interactive_plot(marker_values, maternal_age, is_down, marker_config, z_axis='NT')"
   ]
  },
  {
   "cell_type": "code",
   "execution_count": 575,
   "id": "5d234e11-3c36-42e7-bd4b-ba450bcd7711",
   "metadata": {},
   "outputs": [],
   "source": [
    "create_interactive_plot(marker_values, maternal_age, is_down, marker_config, z_axis='maternal_age')"
   ]
  },
  {
   "cell_type": "markdown",
   "id": "a4d57a37-e493-4a0b-9283-bff7db8e62dd",
   "metadata": {},
   "source": [
    "## Diagnostic algorithm, generate RUC curve and AUC value\n",
    "- Based on likelihood estimation method as described in the paper"
   ]
  },
  {
   "cell_type": "code",
   "execution_count": null,
   "id": "3151751b-fd2d-49b6-a7b0-7ecab95c5968",
   "metadata": {},
   "outputs": [],
   "source": []
  },
  {
   "cell_type": "markdown",
   "id": "2d16fb70-c021-496f-94b6-7608ff7a05c4",
   "metadata": {},
   "source": [
    "## Model of the device\n",
    "- For each MoM value of the patient, generate the raw value that would be measured by the device (example: ng/ml)\n",
    "- Calculate median based on our device generated raw value\n",
    "- Estimate MoM values based on our device's raw values and gestational age dependent median values"
   ]
  },
  {
   "cell_type": "code",
   "execution_count": null,
   "id": "20b83c7a-8838-44af-8e5c-a5967e9977bb",
   "metadata": {},
   "outputs": [],
   "source": []
  },
  {
   "cell_type": "markdown",
   "id": "2f5d4637-0892-44e4-b014-d97116fac5e9",
   "metadata": {},
   "source": [
    "## End to End Analysis"
   ]
  },
  {
   "cell_type": "code",
   "execution_count": null,
   "id": "74ec5fcf-0887-479c-9c81-646992e83e5d",
   "metadata": {},
   "outputs": [],
   "source": []
  }
 ],
 "metadata": {
  "kernelspec": {
   "display_name": "downs",
   "language": "python",
   "name": "downs"
  },
  "language_info": {
   "codemirror_mode": {
    "name": "ipython",
    "version": 3
   },
   "file_extension": ".py",
   "mimetype": "text/x-python",
   "name": "python",
   "nbconvert_exporter": "python",
   "pygments_lexer": "ipython3",
   "version": "3.12.4"
  }
 },
 "nbformat": 4,
 "nbformat_minor": 5
}
